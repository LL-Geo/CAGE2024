{
 "cells": [
  {
   "cell_type": "code",
   "execution_count": 1,
   "id": "25ae64b6",
   "metadata": {},
   "outputs": [
    {
     "data": {
      "text/html": [
       "<div>\n",
       "<style scoped>\n",
       "    .dataframe tbody tr th:only-of-type {\n",
       "        vertical-align: middle;\n",
       "    }\n",
       "\n",
       "    .dataframe tbody tr th {\n",
       "        vertical-align: top;\n",
       "    }\n",
       "\n",
       "    .dataframe thead th {\n",
       "        text-align: right;\n",
       "    }\n",
       "</style>\n",
       "<table border=\"1\" class=\"dataframe\">\n",
       "  <thead>\n",
       "    <tr style=\"text-align: right;\">\n",
       "      <th></th>\n",
       "      <th>longitude</th>\n",
       "      <th>latitude</th>\n",
       "      <th>height_sea_level_m</th>\n",
       "      <th>gravity_mgal</th>\n",
       "    </tr>\n",
       "  </thead>\n",
       "  <tbody>\n",
       "    <tr>\n",
       "      <th>0</th>\n",
       "      <td>18.34444</td>\n",
       "      <td>-34.12971</td>\n",
       "      <td>32.2</td>\n",
       "      <td>979656.12</td>\n",
       "    </tr>\n",
       "    <tr>\n",
       "      <th>1</th>\n",
       "      <td>18.36028</td>\n",
       "      <td>-34.08833</td>\n",
       "      <td>592.5</td>\n",
       "      <td>979508.21</td>\n",
       "    </tr>\n",
       "    <tr>\n",
       "      <th>2</th>\n",
       "      <td>18.37418</td>\n",
       "      <td>-34.19583</td>\n",
       "      <td>18.4</td>\n",
       "      <td>979666.46</td>\n",
       "    </tr>\n",
       "    <tr>\n",
       "      <th>3</th>\n",
       "      <td>18.40388</td>\n",
       "      <td>-34.23972</td>\n",
       "      <td>25.0</td>\n",
       "      <td>979671.03</td>\n",
       "    </tr>\n",
       "    <tr>\n",
       "      <th>4</th>\n",
       "      <td>18.41112</td>\n",
       "      <td>-34.16444</td>\n",
       "      <td>228.7</td>\n",
       "      <td>979616.11</td>\n",
       "    </tr>\n",
       "    <tr>\n",
       "      <th>...</th>\n",
       "      <td>...</td>\n",
       "      <td>...</td>\n",
       "      <td>...</td>\n",
       "      <td>...</td>\n",
       "    </tr>\n",
       "    <tr>\n",
       "      <th>14354</th>\n",
       "      <td>21.22500</td>\n",
       "      <td>-17.95833</td>\n",
       "      <td>1053.1</td>\n",
       "      <td>978182.09</td>\n",
       "    </tr>\n",
       "    <tr>\n",
       "      <th>14355</th>\n",
       "      <td>21.27500</td>\n",
       "      <td>-17.98333</td>\n",
       "      <td>1033.3</td>\n",
       "      <td>978183.09</td>\n",
       "    </tr>\n",
       "    <tr>\n",
       "      <th>14356</th>\n",
       "      <td>21.70833</td>\n",
       "      <td>-17.99166</td>\n",
       "      <td>1041.8</td>\n",
       "      <td>978182.69</td>\n",
       "    </tr>\n",
       "    <tr>\n",
       "      <th>14357</th>\n",
       "      <td>21.85000</td>\n",
       "      <td>-17.95833</td>\n",
       "      <td>1033.3</td>\n",
       "      <td>978193.18</td>\n",
       "    </tr>\n",
       "    <tr>\n",
       "      <th>14358</th>\n",
       "      <td>21.98333</td>\n",
       "      <td>-17.94166</td>\n",
       "      <td>1022.6</td>\n",
       "      <td>978211.38</td>\n",
       "    </tr>\n",
       "  </tbody>\n",
       "</table>\n",
       "<p>14359 rows × 4 columns</p>\n",
       "</div>"
      ],
      "text/plain": [
       "       longitude  latitude  height_sea_level_m  gravity_mgal\n",
       "0       18.34444 -34.12971                32.2     979656.12\n",
       "1       18.36028 -34.08833               592.5     979508.21\n",
       "2       18.37418 -34.19583                18.4     979666.46\n",
       "3       18.40388 -34.23972                25.0     979671.03\n",
       "4       18.41112 -34.16444               228.7     979616.11\n",
       "...          ...       ...                 ...           ...\n",
       "14354   21.22500 -17.95833              1053.1     978182.09\n",
       "14355   21.27500 -17.98333              1033.3     978183.09\n",
       "14356   21.70833 -17.99166              1041.8     978182.69\n",
       "14357   21.85000 -17.95833              1033.3     978193.18\n",
       "14358   21.98333 -17.94166              1022.6     978211.38\n",
       "\n",
       "[14359 rows x 4 columns]"
      ]
     },
     "execution_count": 1,
     "metadata": {},
     "output_type": "execute_result"
    }
   ],
   "source": [
    "import ensaio\n",
    "import pandas as pd\n",
    "import verde as vd\n",
    "import numpy as np\n",
    "fname = ensaio.fetch_southern_africa_gravity(version=1)\n",
    "data = pd.read_csv(fname)\n",
    "data"
   ]
  },
  {
   "cell_type": "code",
   "execution_count": 2,
   "id": "8d2beeaf",
   "metadata": {},
   "outputs": [],
   "source": [
    "import boule as bl\n",
    "\n",
    "normal_gravity = bl.WGS84.normal_gravity(data.latitude, data.height_sea_level_m)\n",
    "disturbance = data.gravity_mgal - normal_gravity"
   ]
  },
  {
   "cell_type": "code",
   "execution_count": 3,
   "id": "7958fe9f",
   "metadata": {},
   "outputs": [],
   "source": [
    "import pyproj\n",
    "\n",
    "projection = pyproj.Proj(proj=\"merc\", lat_ts=data.latitude.mean())\n",
    "easting, northing = projection(data.longitude.values, data.latitude.values)\n",
    "coordinates = (easting, northing, data.height_sea_level_m)"
   ]
  },
  {
   "cell_type": "code",
   "execution_count": 4,
   "id": "61e89162",
   "metadata": {},
   "outputs": [],
   "source": [
    "import harmonica as hm\n",
    "\n",
    "eqs = hm.EquivalentSourcesGB(\n",
    "    depth=9e3, damping=10, block_size=2e3, window_size=100e3, random_state=42\n",
    ")"
   ]
  },
  {
   "cell_type": "code",
   "execution_count": 5,
   "id": "74ce8f27",
   "metadata": {},
   "outputs": [
    {
     "data": {
      "text/plain": [
       "1210568"
      ]
     },
     "execution_count": 5,
     "metadata": {},
     "output_type": "execute_result"
    }
   ],
   "source": [
    "eqs.estimate_required_memory(coordinates)"
   ]
  },
  {
   "cell_type": "code",
   "execution_count": 6,
   "id": "c45b411c",
   "metadata": {},
   "outputs": [
    {
     "data": {
      "text/plain": [
       "1210568"
      ]
     },
     "execution_count": 6,
     "metadata": {},
     "output_type": "execute_result"
    }
   ],
   "source": [
    "np.int64(1210568)"
   ]
  },
  {
   "cell_type": "code",
   "execution_count": 7,
   "id": "41f6ff66",
   "metadata": {},
   "outputs": [
    {
     "data": {
      "text/html": [
       "<style>#sk-container-id-1 {color: black;background-color: white;}#sk-container-id-1 pre{padding: 0;}#sk-container-id-1 div.sk-toggleable {background-color: white;}#sk-container-id-1 label.sk-toggleable__label {cursor: pointer;display: block;width: 100%;margin-bottom: 0;padding: 0.3em;box-sizing: border-box;text-align: center;}#sk-container-id-1 label.sk-toggleable__label-arrow:before {content: \"▸\";float: left;margin-right: 0.25em;color: #696969;}#sk-container-id-1 label.sk-toggleable__label-arrow:hover:before {color: black;}#sk-container-id-1 div.sk-estimator:hover label.sk-toggleable__label-arrow:before {color: black;}#sk-container-id-1 div.sk-toggleable__content {max-height: 0;max-width: 0;overflow: hidden;text-align: left;background-color: #f0f8ff;}#sk-container-id-1 div.sk-toggleable__content pre {margin: 0.2em;color: black;border-radius: 0.25em;background-color: #f0f8ff;}#sk-container-id-1 input.sk-toggleable__control:checked~div.sk-toggleable__content {max-height: 200px;max-width: 100%;overflow: auto;}#sk-container-id-1 input.sk-toggleable__control:checked~label.sk-toggleable__label-arrow:before {content: \"▾\";}#sk-container-id-1 div.sk-estimator input.sk-toggleable__control:checked~label.sk-toggleable__label {background-color: #d4ebff;}#sk-container-id-1 div.sk-label input.sk-toggleable__control:checked~label.sk-toggleable__label {background-color: #d4ebff;}#sk-container-id-1 input.sk-hidden--visually {border: 0;clip: rect(1px 1px 1px 1px);clip: rect(1px, 1px, 1px, 1px);height: 1px;margin: -1px;overflow: hidden;padding: 0;position: absolute;width: 1px;}#sk-container-id-1 div.sk-estimator {font-family: monospace;background-color: #f0f8ff;border: 1px dotted black;border-radius: 0.25em;box-sizing: border-box;margin-bottom: 0.5em;}#sk-container-id-1 div.sk-estimator:hover {background-color: #d4ebff;}#sk-container-id-1 div.sk-parallel-item::after {content: \"\";width: 100%;border-bottom: 1px solid gray;flex-grow: 1;}#sk-container-id-1 div.sk-label:hover label.sk-toggleable__label {background-color: #d4ebff;}#sk-container-id-1 div.sk-serial::before {content: \"\";position: absolute;border-left: 1px solid gray;box-sizing: border-box;top: 0;bottom: 0;left: 50%;z-index: 0;}#sk-container-id-1 div.sk-serial {display: flex;flex-direction: column;align-items: center;background-color: white;padding-right: 0.2em;padding-left: 0.2em;position: relative;}#sk-container-id-1 div.sk-item {position: relative;z-index: 1;}#sk-container-id-1 div.sk-parallel {display: flex;align-items: stretch;justify-content: center;background-color: white;position: relative;}#sk-container-id-1 div.sk-item::before, #sk-container-id-1 div.sk-parallel-item::before {content: \"\";position: absolute;border-left: 1px solid gray;box-sizing: border-box;top: 0;bottom: 0;left: 50%;z-index: -1;}#sk-container-id-1 div.sk-parallel-item {display: flex;flex-direction: column;z-index: 1;position: relative;background-color: white;}#sk-container-id-1 div.sk-parallel-item:first-child::after {align-self: flex-end;width: 50%;}#sk-container-id-1 div.sk-parallel-item:last-child::after {align-self: flex-start;width: 50%;}#sk-container-id-1 div.sk-parallel-item:only-child::after {width: 0;}#sk-container-id-1 div.sk-dashed-wrapped {border: 1px dashed gray;margin: 0 0.4em 0.5em 0.4em;box-sizing: border-box;padding-bottom: 0.4em;background-color: white;}#sk-container-id-1 div.sk-label label {font-family: monospace;font-weight: bold;display: inline-block;line-height: 1.2em;}#sk-container-id-1 div.sk-label-container {text-align: center;}#sk-container-id-1 div.sk-container {/* jupyter's `normalize.less` sets `[hidden] { display: none; }` but bootstrap.min.css set `[hidden] { display: none !important; }` so we also need the `!important` here to be able to override the default hidden behavior on the sphinx rendered scikit-learn.org. See: https://github.com/scikit-learn/scikit-learn/issues/21755 */display: inline-block !important;position: relative;}#sk-container-id-1 div.sk-text-repr-fallback {display: none;}</style><div id=\"sk-container-id-1\" class=\"sk-top-container\"><div class=\"sk-text-repr-fallback\"><pre>EquivalentSourcesGB(block_size=2000.0, damping=10, depth=9000.0,\n",
       "                    random_state=42, window_size=100000.0)</pre><b>In a Jupyter environment, please rerun this cell to show the HTML representation or trust the notebook. <br />On GitHub, the HTML representation is unable to render, please try loading this page with nbviewer.org.</b></div><div class=\"sk-container\" hidden><div class=\"sk-item\"><div class=\"sk-estimator sk-toggleable\"><input class=\"sk-toggleable__control sk-hidden--visually\" id=\"sk-estimator-id-1\" type=\"checkbox\" checked><label for=\"sk-estimator-id-1\" class=\"sk-toggleable__label sk-toggleable__label-arrow\">EquivalentSourcesGB</label><div class=\"sk-toggleable__content\"><pre>EquivalentSourcesGB(block_size=2000.0, damping=10, depth=9000.0,\n",
       "                    random_state=42, window_size=100000.0)</pre></div></div></div></div></div>"
      ],
      "text/plain": [
       "EquivalentSourcesGB(block_size=2000.0, damping=10, depth=9000.0,\n",
       "                    random_state=42, window_size=100000.0)"
      ]
     },
     "execution_count": 7,
     "metadata": {},
     "output_type": "execute_result"
    }
   ],
   "source": [
    "eqs.fit(coordinates, disturbance)"
   ]
  },
  {
   "cell_type": "code",
   "execution_count": 11,
   "id": "61a88fca",
   "metadata": {},
   "outputs": [
    {
     "data": {
      "application/vnd.jupyter.widget-view+json": {
       "model_id": "859d2d7d2d3a468d97aa67b229c04a72",
       "version_major": 2,
       "version_minor": 0
      },
      "text/plain": [
       "interactive(children=(IntSlider(value=2500, continuous_update=False, description='Height (m):', max=100000, mi…"
      ]
     },
     "execution_count": 11,
     "metadata": {},
     "output_type": "execute_result"
    }
   ],
   "source": [
    "import ipywidgets as widgets\n",
    "import matplotlib.pyplot as plt\n",
    "\n",
    "# Define a function to update the grid and plot based on extra_coords value\n",
    "def update_plot(extra_coords):\n",
    "    # Generate grid coordinates based on the selected value of extra_coords\n",
    "    grid_coords = vd.grid_coordinates(\n",
    "        region=vd.get_region(coordinates),\n",
    "        spacing=5e3,\n",
    "        extra_coords=extra_coords,\n",
    "    )\n",
    "    # Create the grid with the magnetic anomaly data\n",
    "    grid = eqs.grid(grid_coords, data_names=[\"gravity_amonaly\"])\n",
    "    \n",
    "    # Plotting the grid using matplotlib\n",
    "    plt.figure(figsize=(10, 6))\n",
    "    plt.imshow(\n",
    "        grid[\"gravity_amonaly\"].values,\n",
    "        extent=(grid.coords[\"easting\"].min(), grid.coords[\"easting\"].max(), \n",
    "                grid.coords[\"northing\"].min(), grid.coords[\"northing\"].max()),\n",
    "        origin=\"lower\"\n",
    "    )\n",
    "    plt.colorbar(label=\"Gravity Anomaly (mGal)\")\n",
    "    plt.title(f\"Observational Height (km) = {extra_coords/1e3}\")\n",
    "    plt.xlabel(\"Easting\")\n",
    "    plt.ylabel(\"Northing\")\n",
    "    plt.show()\n",
    "\n",
    "# Create an interactive widget for controlling extra_coords\n",
    "extra_coords_slider = widgets.IntSlider(\n",
    "    value=2.5e3,\n",
    "    min=2.5e3,\n",
    "    max=100e3,\n",
    "    step=1e3,\n",
    "    description='Height (m):',\n",
    "    continuous_update=False\n",
    ")\n",
    "\n",
    "# Link the widget to the update function\n",
    "widgets.interactive(update_plot, extra_coords=extra_coords_slider)\n"
   ]
  },
  {
   "cell_type": "code",
   "execution_count": null,
   "id": "ebfffea3",
   "metadata": {},
   "outputs": [],
   "source": []
  }
 ],
 "metadata": {
  "kernelspec": {
   "display_name": "Python 3 (ipykernel)",
   "language": "python",
   "name": "python3"
  },
  "language_info": {
   "codemirror_mode": {
    "name": "ipython",
    "version": 3
   },
   "file_extension": ".py",
   "mimetype": "text/x-python",
   "name": "python",
   "nbconvert_exporter": "python",
   "pygments_lexer": "ipython3",
   "version": "3.10.9"
  }
 },
 "nbformat": 4,
 "nbformat_minor": 5
}

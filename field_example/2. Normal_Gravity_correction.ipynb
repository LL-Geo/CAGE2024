{
 "cells": [
  {
   "cell_type": "markdown",
   "id": "4e86d102",
   "metadata": {},
   "source": [
    "# Normal_Gravity_correction\n",
    "\n",
    "by: Lu Li, UWA"
   ]
  },
  {
   "cell_type": "markdown",
   "id": "9dd7b059",
   "metadata": {},
   "source": [
    "Here, we show how to use 'boule' https://www.fatiando.org/boule/latest/ to correct normal gravity\n",
    "\n",
    "See https://www.fatiando.org/harmonica/latest/user_guide/gravity_disturbance.html#gravity-disturbance and https://github.com/LL-Geo/PFToolbox/blob/master/Gravity%20disturbance%20and%20FAA.ipynb for more information"
   ]
  },
  {
   "cell_type": "code",
   "execution_count": 1,
   "id": "f4ed35e0",
   "metadata": {},
   "outputs": [],
   "source": [
    "# Load necessary package \n",
    "import boule as bl\n",
    "import pandas as pd\n",
    "import pyproj\n",
    "import matplotlib.pyplot as plt\n",
    "import numpy as np"
   ]
  },
  {
   "cell_type": "markdown",
   "id": "c1ee2d30",
   "metadata": {},
   "source": [
    "# Read in Gravity data after drift correction"
   ]
  },
  {
   "cell_type": "code",
   "execution_count": 2,
   "id": "4fca7b7d",
   "metadata": {},
   "outputs": [],
   "source": [
    "#Read in Gravity data after drift correction\n",
    "Data = pd.read_csv('Processed_Data.csv', delimiter=r',')"
   ]
  },
  {
   "cell_type": "code",
   "execution_count": 3,
   "id": "21bdb1ce",
   "metadata": {},
   "outputs": [
    {
     "data": {
      "text/html": [
       "<div>\n",
       "<style scoped>\n",
       "    .dataframe tbody tr th:only-of-type {\n",
       "        vertical-align: middle;\n",
       "    }\n",
       "\n",
       "    .dataframe tbody tr th {\n",
       "        vertical-align: top;\n",
       "    }\n",
       "\n",
       "    .dataframe thead th {\n",
       "        text-align: right;\n",
       "    }\n",
       "</style>\n",
       "<table border=\"1\" class=\"dataframe\">\n",
       "  <thead>\n",
       "    <tr style=\"text-align: right;\">\n",
       "      <th></th>\n",
       "      <th>Unnamed: 0</th>\n",
       "      <th>Station</th>\n",
       "      <th>Line</th>\n",
       "      <th>seconds_elapsed</th>\n",
       "      <th>RawGrav</th>\n",
       "      <th>Lon</th>\n",
       "      <th>Lat</th>\n",
       "      <th>Height_Sea_Level_m</th>\n",
       "      <th>Height_Ellipsoid_m</th>\n",
       "      <th>grav_drift</th>\n",
       "    </tr>\n",
       "  </thead>\n",
       "  <tbody>\n",
       "    <tr>\n",
       "      <th>0</th>\n",
       "      <td>0</td>\n",
       "      <td>2000</td>\n",
       "      <td>100</td>\n",
       "      <td>9885.25</td>\n",
       "      <td>3384.535987</td>\n",
       "      <td>119.643221</td>\n",
       "      <td>-32.363165</td>\n",
       "      <td>379.000000</td>\n",
       "      <td>353.310000</td>\n",
       "      <td>4.547474e-13</td>\n",
       "    </tr>\n",
       "    <tr>\n",
       "      <th>1</th>\n",
       "      <td>1</td>\n",
       "      <td>2001</td>\n",
       "      <td>100</td>\n",
       "      <td>1246.00</td>\n",
       "      <td>3384.674600</td>\n",
       "      <td>119.643143</td>\n",
       "      <td>-32.362728</td>\n",
       "      <td>379.000000</td>\n",
       "      <td>353.310000</td>\n",
       "      <td>8.967932e-02</td>\n",
       "    </tr>\n",
       "    <tr>\n",
       "      <th>2</th>\n",
       "      <td>2</td>\n",
       "      <td>2002</td>\n",
       "      <td>100</td>\n",
       "      <td>2107.00</td>\n",
       "      <td>3384.531100</td>\n",
       "      <td>119.642952</td>\n",
       "      <td>-32.362442</td>\n",
       "      <td>379.000000</td>\n",
       "      <td>353.310000</td>\n",
       "      <td>-4.894393e-02</td>\n",
       "    </tr>\n",
       "    <tr>\n",
       "      <th>3</th>\n",
       "      <td>3</td>\n",
       "      <td>2003</td>\n",
       "      <td>100</td>\n",
       "      <td>2582.00</td>\n",
       "      <td>3384.442050</td>\n",
       "      <td>119.642685</td>\n",
       "      <td>-32.361912</td>\n",
       "      <td>380.000000</td>\n",
       "      <td>354.310000</td>\n",
       "      <td>-1.353035e-01</td>\n",
       "    </tr>\n",
       "    <tr>\n",
       "      <th>4</th>\n",
       "      <td>4</td>\n",
       "      <td>2004</td>\n",
       "      <td>100</td>\n",
       "      <td>3108.00</td>\n",
       "      <td>3384.501600</td>\n",
       "      <td>119.642609</td>\n",
       "      <td>-32.361549</td>\n",
       "      <td>380.056885</td>\n",
       "      <td>354.366885</td>\n",
       "      <td>-7.277421e-02</td>\n",
       "    </tr>\n",
       "  </tbody>\n",
       "</table>\n",
       "</div>"
      ],
      "text/plain": [
       "   Unnamed: 0  Station  Line  seconds_elapsed      RawGrav         Lon  \\\n",
       "0           0     2000   100          9885.25  3384.535987  119.643221   \n",
       "1           1     2001   100          1246.00  3384.674600  119.643143   \n",
       "2           2     2002   100          2107.00  3384.531100  119.642952   \n",
       "3           3     2003   100          2582.00  3384.442050  119.642685   \n",
       "4           4     2004   100          3108.00  3384.501600  119.642609   \n",
       "\n",
       "         Lat  Height_Sea_Level_m  Height_Ellipsoid_m    grav_drift  \n",
       "0 -32.363165          379.000000          353.310000  4.547474e-13  \n",
       "1 -32.362728          379.000000          353.310000  8.967932e-02  \n",
       "2 -32.362442          379.000000          353.310000 -4.894393e-02  \n",
       "3 -32.361912          380.000000          354.310000 -1.353035e-01  \n",
       "4 -32.361549          380.056885          354.366885 -7.277421e-02  "
      ]
     },
     "execution_count": 3,
     "metadata": {},
     "output_type": "execute_result"
    }
   ],
   "source": [
    "# Let's looks few line of the data\n",
    "Data.head(5)"
   ]
  },
  {
   "cell_type": "markdown",
   "id": "bb4ed261",
   "metadata": {},
   "source": [
    "# Compute normal gravity at each location\n",
    "Boule implements closed-form formula of Li & Gotze, 2001 which can calculate normal gravity at any latitude and (geometric) height.\n",
    "\n",
    "Li, X. and H. J. Gotze, 2001, Tutorial: Ellipsoid, geoid, gravity, geodesy, and geophysics, Geophysics, 66(6), p. 1660-1668, doi:10.1190/1.1487109"
   ]
  },
  {
   "cell_type": "code",
   "execution_count": 4,
   "id": "4f0e25b4",
   "metadata": {},
   "outputs": [],
   "source": [
    "normal_gravity = bl.WGS84.normal_gravity(Data.Lat, Data['Height_Ellipsoid_m'])\n",
    "disturbance = Data['grav_drift'] - normal_gravity + 9.794e5"
   ]
  },
  {
   "cell_type": "code",
   "execution_count": 5,
   "id": "53513911",
   "metadata": {},
   "outputs": [
    {
     "data": {
      "image/png": "[encoded data removed]",
      "text/plain": [
       "<Figure size 800x800 with 2 Axes>"
      ]
     },
     "metadata": {},
     "output_type": "display_data"
    }
   ],
   "source": [
    "plt.figure(figsize=(8, 8))\n",
    "# Scatter plot for Combine_data with color mapping based on 'GRAV.' values\n",
    "sc = plt.scatter(Data['Lon'], Data['Lat'], c=disturbance, cmap='viridis')\n",
    "# Add labels and legend\n",
    "plt.xlabel('Longitude')\n",
    "plt.ylabel('Latitude')\n",
    "# Add colorbar to the plot\n",
    "plt.colorbar(sc, label='mGal')\n",
    "# Show the plot\n",
    "plt.show()"
   ]
  },
  {
   "cell_type": "code",
   "execution_count": 6,
   "id": "ac6f65ad",
   "metadata": {},
   "outputs": [],
   "source": [
    "# Save the Data to a CSV file\n",
    "data_array = np.column_stack((Data['Lon'], Data['Lat'], Data['Height_Sea_Level_m'], Data['Height_Ellipsoid_m'], Data['grav_drift'], disturbance))\n",
    "df = pd.DataFrame(data_array, columns=['Lon', 'Lat', 'Height Sea Level','Height_Ellipsoid', 'Total Gravity', 'Free Air Disturbance'])\n",
    "df.to_csv('Free_Air_Grav_CAGE_FIELD.csv', index=False)"
   ]
  },
  {
   "cell_type": "markdown",
   "id": "54de1e85",
   "metadata": {},
   "source": [
    "In the next notebook, we will show how to remove topography signal to get Bouguer gravity (aka topography free disturbance)"
   ]
  }
 ],
 "metadata": {
  "kernelspec": {
   "display_name": "Python 3 (ipykernel)",
   "language": "python",
   "name": "python3"
  },
  "language_info": {
   "codemirror_mode": {
    "name": "ipython",
    "version": 3
   },
   "file_extension": ".py",
   "mimetype": "text/x-python",
   "name": "python",
   "nbconvert_exporter": "python",
   "pygments_lexer": "ipython3",
   "version": "3.10.9"
  }
 },
 "nbformat": 4,
 "nbformat_minor": 5
}

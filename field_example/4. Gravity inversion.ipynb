{
 "cells": [
  {
   "cell_type": "markdown",
   "metadata": {},
   "source": [
    "# 3D Inversion of Gravity Anomaly Data use SimPEG"
   ]
  },
  {
   "cell_type": "markdown",
   "metadata": {},
   "source": [
    "Modified from https://simpeg.xyz/user-tutorials/inv-gravity-anomaly-3d\n",
    "\n",
    "This example shows a Weighted least-squares inversion for a tensor mesh.\n",
    "\n",
    "You can also try to run a  Iteratively re-weighted least-squares (IRLS) inversion for a tree mesh\n",
    "\n",
    "For more information see https://simpeg.xyz/user-tutorials/inv-gravity-anomaly-3d\n",
    "\n",
    "**Orignial Author:** Devin C. Cowan\n",
    "\n",
    "</br>\n",
    "\n",
    "**Keywords:** gravity anomaly, integral formulation, inversion, sparse norm, tensor mesh, tree mesh.\n",
    "\n",
    "</br>\n",
    "\n",
    "**Summary:** Here we invert gravity anomaly data to recover a density contrast model. We demonstrate the approache for recovering a density contrast model with a weighted least-squares inversion for a tensor mesh\n",
    "\n",
    "The *weighted least-squares* approach is a great introduction to geophysical inversion with SimPEG. One drawback however, is that it recovers smooth structures which may not be representative of the true model. Because this tutorial focusses primarily on inversion-related functionality, we urge the reader to become familiar with functionality explained in the [3D Forward Simulation of Gravity Anomaly Data](fwd_gravity_anomaly_3d.ipynb) tutorial before working through this one.\n",
    "\n",
    "</br>\n",
    "\n",
    "**Learning Objectives:**\n",
    "\n",
    "- How geophysical inversion is carried out using SimPEG.\n",
    "- How to assign appropriate uncertainties to gravity anomaly data.\n",
    "- How to design a suitable mesh for gravity inversion when using the integral formulation.\n",
    "- How to choose and set parameters for the inversion.\n",
    "- How to define directives that are applied and updated throughout the inversion.\n",
    "- How to applying the sensitivity weighting generally used in 3D gravity inversion.\n",
    "- How to invert data using weighted least-squares and sparse-norm regularization.\n",
    "- How to analyse inversion results.\n",
    "\n",
    "Although we consider gravity anomaly data in this tutorial, the same approach\n",
    "can be used to invert gravity gradiometry data."
   ]
  },
  {
   "cell_type": "markdown",
   "metadata": {},
   "source": [
    "## Import Modules\n",
    "\n",
    "Here, we import all of the functionality required to run the notebook for the tutorial exercise.\n",
    "All of the functionality specific to the forward simulation of gravity data are imported from the [simpeg.potential_fields.gravity](myst:simpeg#simpeg.potential_fields.gravity) module. Classes required to define the data misfit, regularization, optimization, etc... are imported from elsewhere within SimPEG. We also import some useful utility functions from [simpeg.utils](myst:simpeg#simpeg.utils). To generate the mesh used for the inversion, we use the [discretize](https://discretize.simpeg.xyz/en/main) package."
   ]
  },
  {
   "cell_type": "code",
   "execution_count": 1,
   "metadata": {
    "execution": {
     "iopub.execute_input": "2024-07-24T17:50:32.087738Z",
     "iopub.status.busy": "2024-07-24T17:50:32.087152Z",
     "iopub.status.idle": "2024-07-24T17:50:33.960921Z",
     "shell.execute_reply": "2024-07-24T17:50:33.959878Z"
    }
   },
   "outputs": [],
   "source": [
    "# SimPEG functionality\n",
    "from simpeg.potential_fields import gravity\n",
    "from simpeg.utils import plot2Ddata, model_builder, download\n",
    "from simpeg import (\n",
    "    maps,\n",
    "    data,\n",
    "    data_misfit,\n",
    "    inverse_problem,\n",
    "    regularization,\n",
    "    optimization,\n",
    "    directives,\n",
    "    inversion,\n",
    ")\n",
    "\n",
    "# discretize functionality\n",
    "from discretize import TensorMesh, TreeMesh\n",
    "from discretize.utils import active_from_xyz\n",
    "\n",
    "# Common Python functionality\n",
    "import os\n",
    "import numpy as np\n",
    "from scipy.interpolate import griddata\n",
    "import matplotlib as mpl\n",
    "import matplotlib.pyplot as plt\n",
    "import tarfile\n",
    "import pandas as pd\n",
    "mpl.rcParams.update({\"font.size\": 14})"
   ]
  },
  {
   "cell_type": "markdown",
   "metadata": {},
   "source": [
    "## Load Data Files\n",
    "\n",
    "For most geophysical inversion projects, a reasonable inversion result can be obtained so long as the practitioner has observed data and topography. For this tutorial, we use the residual gravity from our last notebook."
   ]
  },
  {
   "cell_type": "code",
   "execution_count": 2,
   "metadata": {
    "execution": {
     "iopub.execute_input": "2024-07-24T17:50:33.966289Z",
     "iopub.status.busy": "2024-07-24T17:50:33.965981Z",
     "iopub.status.idle": "2024-07-24T17:50:34.467681Z",
     "shell.execute_reply": "2024-07-24T17:50:34.466309Z"
    }
   },
   "outputs": [],
   "source": [
    "Data = pd.read_csv('Topo_Free_Grav_CAGE_FIELD.csv', delimiter=r',')"
   ]
  },
  {
   "cell_type": "code",
   "execution_count": 3,
   "metadata": {},
   "outputs": [
    {
     "data": {
      "text/html": [
       "<div>\n",
       "<style scoped>\n",
       "    .dataframe tbody tr th:only-of-type {\n",
       "        vertical-align: middle;\n",
       "    }\n",
       "\n",
       "    .dataframe tbody tr th {\n",
       "        vertical-align: top;\n",
       "    }\n",
       "\n",
       "    .dataframe thead th {\n",
       "        text-align: right;\n",
       "    }\n",
       "</style>\n",
       "<table border=\"1\" class=\"dataframe\">\n",
       "  <thead>\n",
       "    <tr style=\"text-align: right;\">\n",
       "      <th></th>\n",
       "      <th>Lon</th>\n",
       "      <th>Lat</th>\n",
       "      <th>Easting</th>\n",
       "      <th>Northing</th>\n",
       "      <th>Height Sea Level</th>\n",
       "      <th>Height_Ellipsoid</th>\n",
       "      <th>Total Gravity</th>\n",
       "      <th>Free Air Disturbance</th>\n",
       "      <th>Topo Free Disturbance</th>\n",
       "    </tr>\n",
       "  </thead>\n",
       "  <tbody>\n",
       "    <tr>\n",
       "      <th>0</th>\n",
       "      <td>119.643221</td>\n",
       "      <td>-32.363165</td>\n",
       "      <td>748715.186759</td>\n",
       "      <td>6.416237e+06</td>\n",
       "      <td>379.000000</td>\n",
       "      <td>353.310000</td>\n",
       "      <td>4.547474e-13</td>\n",
       "      <td>-4.733592</td>\n",
       "      <td>-86.427658</td>\n",
       "    </tr>\n",
       "    <tr>\n",
       "      <th>1</th>\n",
       "      <td>119.643143</td>\n",
       "      <td>-32.362728</td>\n",
       "      <td>748709.064805</td>\n",
       "      <td>6.416285e+06</td>\n",
       "      <td>379.000000</td>\n",
       "      <td>353.310000</td>\n",
       "      <td>8.967932e-02</td>\n",
       "      <td>-4.608253</td>\n",
       "      <td>-86.306516</td>\n",
       "    </tr>\n",
       "    <tr>\n",
       "      <th>2</th>\n",
       "      <td>119.642952</td>\n",
       "      <td>-32.362442</td>\n",
       "      <td>748691.870697</td>\n",
       "      <td>6.416318e+06</td>\n",
       "      <td>379.000000</td>\n",
       "      <td>353.310000</td>\n",
       "      <td>-4.894393e-02</td>\n",
       "      <td>-4.723511</td>\n",
       "      <td>-86.421990</td>\n",
       "    </tr>\n",
       "    <tr>\n",
       "      <th>3</th>\n",
       "      <td>119.642685</td>\n",
       "      <td>-32.361912</td>\n",
       "      <td>748668.191487</td>\n",
       "      <td>6.416377e+06</td>\n",
       "      <td>380.000000</td>\n",
       "      <td>354.310000</td>\n",
       "      <td>-1.353035e-01</td>\n",
       "      <td>-4.457970</td>\n",
       "      <td>-86.595709</td>\n",
       "    </tr>\n",
       "    <tr>\n",
       "      <th>4</th>\n",
       "      <td>119.642609</td>\n",
       "      <td>-32.361549</td>\n",
       "      <td>748662.032496</td>\n",
       "      <td>6.416417e+06</td>\n",
       "      <td>380.056885</td>\n",
       "      <td>354.366885</td>\n",
       "      <td>-7.277421e-02</td>\n",
       "      <td>-4.348231</td>\n",
       "      <td>-86.406091</td>\n",
       "    </tr>\n",
       "    <tr>\n",
       "      <th>5</th>\n",
       "      <td>119.642456</td>\n",
       "      <td>-32.361130</td>\n",
       "      <td>748648.779133</td>\n",
       "      <td>6.416464e+06</td>\n",
       "      <td>380.233765</td>\n",
       "      <td>354.543765</td>\n",
       "      <td>2.412311e-03</td>\n",
       "      <td>-4.184230</td>\n",
       "      <td>-86.319005</td>\n",
       "    </tr>\n",
       "    <tr>\n",
       "      <th>6</th>\n",
       "      <td>119.642334</td>\n",
       "      <td>-32.360680</td>\n",
       "      <td>748638.528476</td>\n",
       "      <td>6.416514e+06</td>\n",
       "      <td>380.488312</td>\n",
       "      <td>354.798312</td>\n",
       "      <td>1.111672e-01</td>\n",
       "      <td>-3.960159</td>\n",
       "      <td>-86.208699</td>\n",
       "    </tr>\n",
       "    <tr>\n",
       "      <th>7</th>\n",
       "      <td>119.642189</td>\n",
       "      <td>-32.360249</td>\n",
       "      <td>748626.060718</td>\n",
       "      <td>6.416563e+06</td>\n",
       "      <td>379.457306</td>\n",
       "      <td>353.767306</td>\n",
       "      <td>7.756699e-02</td>\n",
       "      <td>-4.276721</td>\n",
       "      <td>-86.171540</td>\n",
       "    </tr>\n",
       "    <tr>\n",
       "      <th>8</th>\n",
       "      <td>119.642029</td>\n",
       "      <td>-32.359821</td>\n",
       "      <td>748612.172685</td>\n",
       "      <td>6.416610e+06</td>\n",
       "      <td>380.090424</td>\n",
       "      <td>354.400424</td>\n",
       "      <td>-2.575391e-02</td>\n",
       "      <td>-4.149697</td>\n",
       "      <td>-86.194966</td>\n",
       "    </tr>\n",
       "    <tr>\n",
       "      <th>9</th>\n",
       "      <td>119.641991</td>\n",
       "      <td>-32.359356</td>\n",
       "      <td>748609.869466</td>\n",
       "      <td>6.416662e+06</td>\n",
       "      <td>380.897125</td>\n",
       "      <td>355.207125</td>\n",
       "      <td>1.035490e-01</td>\n",
       "      <td>-3.733457</td>\n",
       "      <td>-85.960240</td>\n",
       "    </tr>\n",
       "    <tr>\n",
       "      <th>10</th>\n",
       "      <td>119.641899</td>\n",
       "      <td>-32.358906</td>\n",
       "      <td>748602.442166</td>\n",
       "      <td>6.416712e+06</td>\n",
       "      <td>379.788788</td>\n",
       "      <td>354.098788</td>\n",
       "      <td>1.246906e-01</td>\n",
       "      <td>-4.017591</td>\n",
       "      <td>-86.055010</td>\n",
       "    </tr>\n",
       "    <tr>\n",
       "      <th>11</th>\n",
       "      <td>119.641785</td>\n",
       "      <td>-32.358456</td>\n",
       "      <td>748592.943925</td>\n",
       "      <td>6.416762e+06</td>\n",
       "      <td>379.066711</td>\n",
       "      <td>353.376711</td>\n",
       "      <td>1.095338e-01</td>\n",
       "      <td>-4.218822</td>\n",
       "      <td>-85.932391</td>\n",
       "    </tr>\n",
       "    <tr>\n",
       "      <th>12</th>\n",
       "      <td>119.641617</td>\n",
       "      <td>-32.357983</td>\n",
       "      <td>748578.425554</td>\n",
       "      <td>6.416815e+06</td>\n",
       "      <td>379.870636</td>\n",
       "      <td>354.180636</td>\n",
       "      <td>-1.333680e-02</td>\n",
       "      <td>-4.054960</td>\n",
       "      <td>-86.122481</td>\n",
       "    </tr>\n",
       "    <tr>\n",
       "      <th>13</th>\n",
       "      <td>119.641533</td>\n",
       "      <td>-32.357674</td>\n",
       "      <td>748571.364832</td>\n",
       "      <td>6.416850e+06</td>\n",
       "      <td>379.686371</td>\n",
       "      <td>353.996371</td>\n",
       "      <td>-1.087003e-01</td>\n",
       "      <td>-4.181947</td>\n",
       "      <td>-86.164474</td>\n",
       "    </tr>\n",
       "    <tr>\n",
       "      <th>14</th>\n",
       "      <td>119.641380</td>\n",
       "      <td>-32.357178</td>\n",
       "      <td>748558.321107</td>\n",
       "      <td>6.416905e+06</td>\n",
       "      <td>378.446228</td>\n",
       "      <td>352.756228</td>\n",
       "      <td>-1.754921e-01</td>\n",
       "      <td>-4.590932</td>\n",
       "      <td>-86.067767</td>\n",
       "    </tr>\n",
       "    <tr>\n",
       "      <th>15</th>\n",
       "      <td>119.641342</td>\n",
       "      <td>-32.356682</td>\n",
       "      <td>748556.102259</td>\n",
       "      <td>6.416960e+06</td>\n",
       "      <td>380.165222</td>\n",
       "      <td>354.475222</td>\n",
       "      <td>-2.567884e-01</td>\n",
       "      <td>-4.101226</td>\n",
       "      <td>-86.207350</td>\n",
       "    </tr>\n",
       "    <tr>\n",
       "      <th>16</th>\n",
       "      <td>119.641151</td>\n",
       "      <td>-32.356236</td>\n",
       "      <td>748539.344355</td>\n",
       "      <td>6.417010e+06</td>\n",
       "      <td>380.645386</td>\n",
       "      <td>354.955386</td>\n",
       "      <td>-2.028782e-01</td>\n",
       "      <td>-3.862704</td>\n",
       "      <td>-86.111339</td>\n",
       "    </tr>\n",
       "    <tr>\n",
       "      <th>17</th>\n",
       "      <td>119.641060</td>\n",
       "      <td>-32.355900</td>\n",
       "      <td>748531.698289</td>\n",
       "      <td>6.417048e+06</td>\n",
       "      <td>379.897827</td>\n",
       "      <td>354.207827</td>\n",
       "      <td>-2.491011e-01</td>\n",
       "      <td>-4.112179</td>\n",
       "      <td>-86.164763</td>\n",
       "    </tr>\n",
       "    <tr>\n",
       "      <th>18</th>\n",
       "      <td>119.641060</td>\n",
       "      <td>-32.355309</td>\n",
       "      <td>748533.316283</td>\n",
       "      <td>6.417113e+06</td>\n",
       "      <td>379.846466</td>\n",
       "      <td>354.156466</td>\n",
       "      <td>-4.283531e-01</td>\n",
       "      <td>-4.259005</td>\n",
       "      <td>-86.283669</td>\n",
       "    </tr>\n",
       "    <tr>\n",
       "      <th>19</th>\n",
       "      <td>119.643524</td>\n",
       "      <td>-32.365200</td>\n",
       "      <td>748738.150759</td>\n",
       "      <td>6.416010e+06</td>\n",
       "      <td>381.795776</td>\n",
       "      <td>356.105776</td>\n",
       "      <td>-9.706178e-01</td>\n",
       "      <td>-5.007721</td>\n",
       "      <td>-87.495675</td>\n",
       "    </tr>\n",
       "    <tr>\n",
       "      <th>20</th>\n",
       "      <td>119.643593</td>\n",
       "      <td>-32.364620</td>\n",
       "      <td>748746.234999</td>\n",
       "      <td>6.416075e+06</td>\n",
       "      <td>382.352814</td>\n",
       "      <td>356.662814</td>\n",
       "      <td>-7.768437e-01</td>\n",
       "      <td>-4.594660</td>\n",
       "      <td>-87.429939</td>\n",
       "    </tr>\n",
       "    <tr>\n",
       "      <th>21</th>\n",
       "      <td>119.643463</td>\n",
       "      <td>-32.364124</td>\n",
       "      <td>748735.358525</td>\n",
       "      <td>6.416130e+06</td>\n",
       "      <td>382.076691</td>\n",
       "      <td>356.386691</td>\n",
       "      <td>-5.692369e-01</td>\n",
       "      <td>-4.431743</td>\n",
       "      <td>-87.188232</td>\n",
       "    </tr>\n",
       "    <tr>\n",
       "      <th>22</th>\n",
       "      <td>119.643250</td>\n",
       "      <td>-32.363739</td>\n",
       "      <td>748716.365422</td>\n",
       "      <td>6.416173e+06</td>\n",
       "      <td>381.229370</td>\n",
       "      <td>355.539370</td>\n",
       "      <td>-3.629339e-01</td>\n",
       "      <td>-4.455472</td>\n",
       "      <td>-86.823871</td>\n",
       "    </tr>\n",
       "    <tr>\n",
       "      <th>23</th>\n",
       "      <td>119.641022</td>\n",
       "      <td>-32.363186</td>\n",
       "      <td>748508.172354</td>\n",
       "      <td>6.416240e+06</td>\n",
       "      <td>380.726196</td>\n",
       "      <td>355.036196</td>\n",
       "      <td>-2.396827e-01</td>\n",
       "      <td>-4.442323</td>\n",
       "      <td>-86.639787</td>\n",
       "    </tr>\n",
       "    <tr>\n",
       "      <th>24</th>\n",
       "      <td>119.642151</td>\n",
       "      <td>-32.363243</td>\n",
       "      <td>748614.282356</td>\n",
       "      <td>6.416231e+06</td>\n",
       "      <td>380.486328</td>\n",
       "      <td>354.796328</td>\n",
       "      <td>-2.189835e-01</td>\n",
       "      <td>-4.500304</td>\n",
       "      <td>-86.746152</td>\n",
       "    </tr>\n",
       "    <tr>\n",
       "      <th>25</th>\n",
       "      <td>119.643221</td>\n",
       "      <td>-32.363165</td>\n",
       "      <td>748715.186759</td>\n",
       "      <td>6.416237e+06</td>\n",
       "      <td>379.000000</td>\n",
       "      <td>353.310000</td>\n",
       "      <td>-1.818989e-12</td>\n",
       "      <td>-4.733592</td>\n",
       "      <td>-86.427658</td>\n",
       "    </tr>\n",
       "    <tr>\n",
       "      <th>26</th>\n",
       "      <td>119.644279</td>\n",
       "      <td>-32.363152</td>\n",
       "      <td>748814.827995</td>\n",
       "      <td>6.416236e+06</td>\n",
       "      <td>382.153534</td>\n",
       "      <td>356.463534</td>\n",
       "      <td>-3.151622e-01</td>\n",
       "      <td>-4.074545</td>\n",
       "      <td>-86.817920</td>\n",
       "    </tr>\n",
       "    <tr>\n",
       "      <th>27</th>\n",
       "      <td>119.645218</td>\n",
       "      <td>-32.363209</td>\n",
       "      <td>748903.054360</td>\n",
       "      <td>6.416227e+06</td>\n",
       "      <td>382.413055</td>\n",
       "      <td>356.723055</td>\n",
       "      <td>-6.271610e-01</td>\n",
       "      <td>-4.311112</td>\n",
       "      <td>-87.202464</td>\n",
       "    </tr>\n",
       "    <tr>\n",
       "      <th>28</th>\n",
       "      <td>119.644241</td>\n",
       "      <td>-32.362873</td>\n",
       "      <td>748812.016177</td>\n",
       "      <td>6.416267e+06</td>\n",
       "      <td>381.029480</td>\n",
       "      <td>355.339480</td>\n",
       "      <td>-2.635283e-01</td>\n",
       "      <td>-4.347004</td>\n",
       "      <td>-86.833779</td>\n",
       "    </tr>\n",
       "    <tr>\n",
       "      <th>29</th>\n",
       "      <td>119.645180</td>\n",
       "      <td>-32.362751</td>\n",
       "      <td>748900.733733</td>\n",
       "      <td>6.416278e+06</td>\n",
       "      <td>382.091034</td>\n",
       "      <td>356.401034</td>\n",
       "      <td>-5.267555e-01</td>\n",
       "      <td>-4.272666</td>\n",
       "      <td>-87.020151</td>\n",
       "    </tr>\n",
       "    <tr>\n",
       "      <th>30</th>\n",
       "      <td>119.644318</td>\n",
       "      <td>-32.362434</td>\n",
       "      <td>748820.467348</td>\n",
       "      <td>6.416315e+06</td>\n",
       "      <td>381.818665</td>\n",
       "      <td>356.128665</td>\n",
       "      <td>-2.339031e-01</td>\n",
       "      <td>-4.037970</td>\n",
       "      <td>-86.506806</td>\n",
       "    </tr>\n",
       "    <tr>\n",
       "      <th>31</th>\n",
       "      <td>119.645355</td>\n",
       "      <td>-32.362396</td>\n",
       "      <td>748918.179221</td>\n",
       "      <td>6.416317e+06</td>\n",
       "      <td>384.008606</td>\n",
       "      <td>358.318606</td>\n",
       "      <td>-5.124926e-01</td>\n",
       "      <td>-3.637635</td>\n",
       "      <td>-86.905409</td>\n",
       "    </tr>\n",
       "  </tbody>\n",
       "</table>\n",
       "</div>"
      ],
      "text/plain": [
       "           Lon        Lat        Easting      Northing  Height Sea Level  \\\n",
       "0   119.643221 -32.363165  748715.186759  6.416237e+06        379.000000   \n",
       "1   119.643143 -32.362728  748709.064805  6.416285e+06        379.000000   \n",
       "2   119.642952 -32.362442  748691.870697  6.416318e+06        379.000000   \n",
       "3   119.642685 -32.361912  748668.191487  6.416377e+06        380.000000   \n",
       "4   119.642609 -32.361549  748662.032496  6.416417e+06        380.056885   \n",
       "5   119.642456 -32.361130  748648.779133  6.416464e+06        380.233765   \n",
       "6   119.642334 -32.360680  748638.528476  6.416514e+06        380.488312   \n",
       "7   119.642189 -32.360249  748626.060718  6.416563e+06        379.457306   \n",
       "8   119.642029 -32.359821  748612.172685  6.416610e+06        380.090424   \n",
       "9   119.641991 -32.359356  748609.869466  6.416662e+06        380.897125   \n",
       "10  119.641899 -32.358906  748602.442166  6.416712e+06        379.788788   \n",
       "11  119.641785 -32.358456  748592.943925  6.416762e+06        379.066711   \n",
       "12  119.641617 -32.357983  748578.425554  6.416815e+06        379.870636   \n",
       "13  119.641533 -32.357674  748571.364832  6.416850e+06        379.686371   \n",
       "14  119.641380 -32.357178  748558.321107  6.416905e+06        378.446228   \n",
       "15  119.641342 -32.356682  748556.102259  6.416960e+06        380.165222   \n",
       "16  119.641151 -32.356236  748539.344355  6.417010e+06        380.645386   \n",
       "17  119.641060 -32.355900  748531.698289  6.417048e+06        379.897827   \n",
       "18  119.641060 -32.355309  748533.316283  6.417113e+06        379.846466   \n",
       "19  119.643524 -32.365200  748738.150759  6.416010e+06        381.795776   \n",
       "20  119.643593 -32.364620  748746.234999  6.416075e+06        382.352814   \n",
       "21  119.643463 -32.364124  748735.358525  6.416130e+06        382.076691   \n",
       "22  119.643250 -32.363739  748716.365422  6.416173e+06        381.229370   \n",
       "23  119.641022 -32.363186  748508.172354  6.416240e+06        380.726196   \n",
       "24  119.642151 -32.363243  748614.282356  6.416231e+06        380.486328   \n",
       "25  119.643221 -32.363165  748715.186759  6.416237e+06        379.000000   \n",
       "26  119.644279 -32.363152  748814.827995  6.416236e+06        382.153534   \n",
       "27  119.645218 -32.363209  748903.054360  6.416227e+06        382.413055   \n",
       "28  119.644241 -32.362873  748812.016177  6.416267e+06        381.029480   \n",
       "29  119.645180 -32.362751  748900.733733  6.416278e+06        382.091034   \n",
       "30  119.644318 -32.362434  748820.467348  6.416315e+06        381.818665   \n",
       "31  119.645355 -32.362396  748918.179221  6.416317e+06        384.008606   \n",
       "\n",
       "    Height_Ellipsoid  Total Gravity  Free Air Disturbance  \\\n",
       "0         353.310000   4.547474e-13             -4.733592   \n",
       "1         353.310000   8.967932e-02             -4.608253   \n",
       "2         353.310000  -4.894393e-02             -4.723511   \n",
       "3         354.310000  -1.353035e-01             -4.457970   \n",
       "4         354.366885  -7.277421e-02             -4.348231   \n",
       "5         354.543765   2.412311e-03             -4.184230   \n",
       "6         354.798312   1.111672e-01             -3.960159   \n",
       "7         353.767306   7.756699e-02             -4.276721   \n",
       "8         354.400424  -2.575391e-02             -4.149697   \n",
       "9         355.207125   1.035490e-01             -3.733457   \n",
       "10        354.098788   1.246906e-01             -4.017591   \n",
       "11        353.376711   1.095338e-01             -4.218822   \n",
       "12        354.180636  -1.333680e-02             -4.054960   \n",
       "13        353.996371  -1.087003e-01             -4.181947   \n",
       "14        352.756228  -1.754921e-01             -4.590932   \n",
       "15        354.475222  -2.567884e-01             -4.101226   \n",
       "16        354.955386  -2.028782e-01             -3.862704   \n",
       "17        354.207827  -2.491011e-01             -4.112179   \n",
       "18        354.156466  -4.283531e-01             -4.259005   \n",
       "19        356.105776  -9.706178e-01             -5.007721   \n",
       "20        356.662814  -7.768437e-01             -4.594660   \n",
       "21        356.386691  -5.692369e-01             -4.431743   \n",
       "22        355.539370  -3.629339e-01             -4.455472   \n",
       "23        355.036196  -2.396827e-01             -4.442323   \n",
       "24        354.796328  -2.189835e-01             -4.500304   \n",
       "25        353.310000  -1.818989e-12             -4.733592   \n",
       "26        356.463534  -3.151622e-01             -4.074545   \n",
       "27        356.723055  -6.271610e-01             -4.311112   \n",
       "28        355.339480  -2.635283e-01             -4.347004   \n",
       "29        356.401034  -5.267555e-01             -4.272666   \n",
       "30        356.128665  -2.339031e-01             -4.037970   \n",
       "31        358.318606  -5.124926e-01             -3.637635   \n",
       "\n",
       "    Topo Free Disturbance  \n",
       "0              -86.427658  \n",
       "1              -86.306516  \n",
       "2              -86.421990  \n",
       "3              -86.595709  \n",
       "4              -86.406091  \n",
       "5              -86.319005  \n",
       "6              -86.208699  \n",
       "7              -86.171540  \n",
       "8              -86.194966  \n",
       "9              -85.960240  \n",
       "10             -86.055010  \n",
       "11             -85.932391  \n",
       "12             -86.122481  \n",
       "13             -86.164474  \n",
       "14             -86.067767  \n",
       "15             -86.207350  \n",
       "16             -86.111339  \n",
       "17             -86.164763  \n",
       "18             -86.283669  \n",
       "19             -87.495675  \n",
       "20             -87.429939  \n",
       "21             -87.188232  \n",
       "22             -86.823871  \n",
       "23             -86.639787  \n",
       "24             -86.746152  \n",
       "25             -86.427658  \n",
       "26             -86.817920  \n",
       "27             -87.202464  \n",
       "28             -86.833779  \n",
       "29             -87.020151  \n",
       "30             -86.506806  \n",
       "31             -86.905409  "
      ]
     },
     "execution_count": 3,
     "metadata": {},
     "output_type": "execute_result"
    }
   ],
   "source": [
    "Data"
   ]
  },
  {
   "cell_type": "code",
   "execution_count": 4,
   "metadata": {},
   "outputs": [
    {
     "data": {
      "text/plain": [
       "-86.50498449082613"
      ]
     },
     "execution_count": 4,
     "metadata": {},
     "output_type": "execute_result"
    }
   ],
   "source": [
    "Data['Topo Free Disturbance'].mean()"
   ]
  },
  {
   "cell_type": "code",
   "execution_count": 5,
   "metadata": {},
   "outputs": [],
   "source": [
    "dobs = np.column_stack((Data['Easting'], Data['Northing'], Data['Height_Ellipsoid'], Data['Topo Free Disturbance']-Data['Topo Free Disturbance'].mean()))\n"
   ]
  },
  {
   "cell_type": "code",
   "execution_count": 6,
   "metadata": {},
   "outputs": [
    {
     "data": {
      "text/plain": [
       "array([[ 7.48715187e+05,  6.41623686e+06,  3.53310000e+02,\n",
       "         7.73261951e-02],\n",
       "       [ 7.48709065e+05,  6.41628545e+06,  3.53310000e+02,\n",
       "         1.98468593e-01],\n",
       "       [ 7.48691871e+05,  6.41631761e+06,  3.53310000e+02,\n",
       "         8.29943019e-02],\n",
       "       [ 7.48668191e+05,  6.41637701e+06,  3.54310000e+02,\n",
       "        -9.07245464e-02],\n",
       "       [ 7.48662032e+05,  6.41641744e+06,  3.54366885e+02,\n",
       "         9.88938776e-02],\n",
       "       [ 7.48648779e+05,  6.41646426e+06,  3.54543765e+02,\n",
       "         1.85979838e-01],\n",
       "       [ 7.48638528e+05,  6.41651445e+06,  3.54798312e+02,\n",
       "         2.96285115e-01],\n",
       "       [ 7.48626061e+05,  6.41656259e+06,  3.53767306e+02,\n",
       "         3.33444091e-01],\n",
       "       [ 7.48612173e+05,  6.41661042e+06,  3.54400424e+02,\n",
       "         3.10018489e-01],\n",
       "       [ 7.48609869e+05,  6.41666208e+06,  3.55207125e+02,\n",
       "         5.44744477e-01],\n",
       "       [ 7.48602442e+05,  6.41671220e+06,  3.54098788e+02,\n",
       "         4.49974231e-01],\n",
       "       [ 7.48592944e+05,  6.41676237e+06,  3.53376711e+02,\n",
       "         5.72593952e-01],\n",
       "       [ 7.48578426e+05,  6.41681521e+06,  3.54180636e+02,\n",
       "         3.82503026e-01],\n",
       "       [ 7.48571365e+05,  6.41684968e+06,  3.53996371e+02,\n",
       "         3.40510144e-01],\n",
       "       [ 7.48558321e+05,  6.41690504e+06,  3.52756228e+02,\n",
       "         4.37217430e-01],\n",
       "       [ 7.48556102e+05,  6.41696013e+06,  3.54475222e+02,\n",
       "         2.97634399e-01],\n",
       "       [ 7.48539344e+05,  6.41701004e+06,  3.54955386e+02,\n",
       "         3.93645129e-01],\n",
       "       [ 7.48531698e+05,  6.41704751e+06,  3.54207827e+02,\n",
       "         3.40221154e-01],\n",
       "       [ 7.48533316e+05,  6.41711305e+06,  3.54156466e+02,\n",
       "         2.21315947e-01],\n",
       "       [ 7.48738151e+05,  6.41601042e+06,  3.56105776e+02,\n",
       "        -9.90690967e-01],\n",
       "       [ 7.48746235e+05,  6.41607458e+06,  3.56662814e+02,\n",
       "        -9.24954694e-01],\n",
       "       [ 7.48735359e+05,  6.41612989e+06,  3.56386691e+02,\n",
       "        -6.83247531e-01],\n",
       "       [ 7.48716365e+05,  6.41617308e+06,  3.55539370e+02,\n",
       "        -3.18886379e-01],\n",
       "       [ 7.48508172e+05,  6.41623959e+06,  3.55036196e+02,\n",
       "        -1.34802797e-01],\n",
       "       [ 7.48614282e+05,  6.41623064e+06,  3.54796328e+02,\n",
       "        -2.41167129e-01],\n",
       "       [ 7.48715187e+05,  6.41623686e+06,  3.53310000e+02,\n",
       "         7.73261951e-02],\n",
       "       [ 7.48814828e+05,  6.41623578e+06,  3.56463534e+02,\n",
       "        -3.12935230e-01],\n",
       "       [ 7.48903054e+05,  6.41622728e+06,  3.56723055e+02,\n",
       "        -6.97479953e-01],\n",
       "       [ 7.48812016e+05,  6.41626681e+06,  3.55339480e+02,\n",
       "        -3.28794285e-01],\n",
       "       [ 7.48900734e+05,  6.41627816e+06,  3.56401034e+02,\n",
       "        -5.15166527e-01],\n",
       "       [ 7.48820467e+05,  6.41631532e+06,  3.56128665e+02,\n",
       "        -1.82173728e-03],\n",
       "       [ 7.48918179e+05,  6.41631712e+06,  3.58318606e+02,\n",
       "        -4.00424813e-01]])"
      ]
     },
     "execution_count": 6,
     "metadata": {},
     "output_type": "execute_result"
    }
   ],
   "source": [
    "dobs"
   ]
  },
  {
   "cell_type": "markdown",
   "metadata": {},
   "source": [
    "## Plot Observed Data and Topography\n",
    "\n",
    "Here we plot the synthetic gravity anomaly data and local topography."
   ]
  },
  {
   "cell_type": "code",
   "execution_count": 7,
   "metadata": {
    "execution": {
     "iopub.execute_input": "2024-07-24T17:50:34.486181Z",
     "iopub.status.busy": "2024-07-24T17:50:34.485768Z",
     "iopub.status.idle": "2024-07-24T17:50:34.491373Z",
     "shell.execute_reply": "2024-07-24T17:50:34.490277Z"
    }
   },
   "outputs": [],
   "source": [
    "# Define receiver locations and observed data\n",
    "receiver_locations = dobs[:, 0:3]\n",
    "dobs = dobs[:, -1]"
   ]
  },
  {
   "cell_type": "code",
   "execution_count": 8,
   "metadata": {},
   "outputs": [
    {
     "data": {
      "text/plain": [
       "0.990690966806568"
      ]
     },
     "execution_count": 8,
     "metadata": {},
     "output_type": "execute_result"
    }
   ],
   "source": [
    "np.max(np.abs(dobs))"
   ]
  },
  {
   "cell_type": "code",
   "execution_count": 9,
   "metadata": {
    "execution": {
     "iopub.execute_input": "2024-07-24T17:50:34.495756Z",
     "iopub.status.busy": "2024-07-24T17:50:34.495409Z",
     "iopub.status.idle": "2024-07-24T17:50:35.094066Z",
     "shell.execute_reply": "2024-07-24T17:50:35.093295Z"
    }
   },
   "outputs": [
    {
     "data": {
      "image/png": "[encoded data removed]",
      "text/plain": [
       "<Figure size 900x1200 with 2 Axes>"
      ]
     },
     "metadata": {},
     "output_type": "display_data"
    }
   ],
   "source": [
    "fig = plt.figure(figsize=(9, 12))\n",
    "\n",
    "ax1 = fig.add_axes([0.05, 0.35, 0.35, 0.6])\n",
    "plot2Ddata(\n",
    "    receiver_locations,\n",
    "    dobs,\n",
    "    ax=ax1,\n",
    "    dataloc=True,\n",
    "    ncontour=40,\n",
    "    contourOpts={\"cmap\": \"bwr\"},\n",
    ")\n",
    "ax1.set_title(\"Gravity Anomaly\", pad=15)\n",
    "ax1.set_xlabel(\"x (m)\")\n",
    "ax1.set_ylabel(\"y (m)\")\n",
    "\n",
    "cx1 = fig.add_axes([0.05, 0.18, 0.35, 0.04])\n",
    "norm1 = mpl.colors.Normalize(vmin=-np.max(np.abs(dobs)), vmax=np.max(np.abs(dobs)))\n",
    "cbar1 = mpl.colorbar.ColorbarBase(\n",
    "    cx1, norm=norm1, orientation=\"horizontal\", cmap=mpl.cm.bwr\n",
    ")\n",
    "cbar1.set_label(\"$mGal$\", size=16)\n",
    "\n",
    "plt.show()"
   ]
  },
  {
   "cell_type": "markdown",
   "metadata": {},
   "source": [
    "## Assign Uncertainties\n",
    "\n",
    "Inversion with SimPEG requires that we define the uncertainties on our data; that is, an estimate of the standard deviation of the noise on our data assuming it is uncorrelated Gaussian with zero mean. An online resource explaining uncertainties and their role in the inversion can be found [here](https://giftoolscookbook.readthedocs.io/en/latest/content/fundamentals/Uncertainties.html).\n",
    "\n",
    "**For gravity anomaly data,** a constant floor value is generally applied to all data. We usually avoid assigning percent uncertainties because the inversion would prioritize fitting the background over fitting anomalies. The floor value for the uncertainties may be chosen based on some knowledge of the instrument error, or it may be chosen as some fraction of the largest anomaly value. For this tutorial, the floor uncertainty assigned to all data is 2.5% of the maximum observed gravity anomaly value. **For gravity gradiometry data,** you may choose to assign a different floor value to each data component."
   ]
  },
  {
   "cell_type": "code",
   "execution_count": 10,
   "metadata": {
    "execution": {
     "iopub.execute_input": "2024-07-24T17:50:35.099828Z",
     "iopub.status.busy": "2024-07-24T17:50:35.099521Z",
     "iopub.status.idle": "2024-07-24T17:50:35.105071Z",
     "shell.execute_reply": "2024-07-24T17:50:35.104269Z"
    }
   },
   "outputs": [
    {
     "name": "stdout",
     "output_type": "stream",
     "text": [
      "Floor uncertainty: 0.002\n"
     ]
    }
   ],
   "source": [
    "maximum_anomaly = np.max(np.abs(dobs))\n",
    "floor_uncertainty = 0.002\n",
    "uncertainties = floor_uncertainty * np.ones(np.shape(dobs))\n",
    "print(\"Floor uncertainty: {}\".format(floor_uncertainty))"
   ]
  },
  {
   "cell_type": "markdown",
   "metadata": {},
   "source": [
    "## Define the Survey\n",
    "\n",
    "Here, we define the survey geometry. For a more comprehensive description of constructing gravity surveys in SimPEG, see the [3D Forward Simulation of Gravity Anomaly Data](fwd_gravity_anomaly_3d.ipynb) tutorial."
   ]
  },
  {
   "cell_type": "code",
   "execution_count": 11,
   "metadata": {
    "execution": {
     "iopub.execute_input": "2024-07-24T17:50:35.110340Z",
     "iopub.status.busy": "2024-07-24T17:50:35.109975Z",
     "iopub.status.idle": "2024-07-24T17:50:35.115710Z",
     "shell.execute_reply": "2024-07-24T17:50:35.114801Z"
    }
   },
   "outputs": [],
   "source": [
    "# Define the receivers. The data consist of vertical gravity anomaly measurements.\n",
    "# The set of receivers must be defined as a list.\n",
    "receiver_list = gravity.receivers.Point(receiver_locations, components=\"gz\")\n",
    "receiver_list = [receiver_list]\n",
    "\n",
    "# Define the source field\n",
    "source_field = gravity.sources.SourceField(receiver_list=receiver_list)\n",
    "\n",
    "# Define the survey\n",
    "survey = gravity.survey.Survey(source_field)"
   ]
  },
  {
   "cell_type": "markdown",
   "metadata": {},
   "source": [
    "## Define the Data\n",
    "\n",
    "The SimPEG [Data](myst:simpeg#simpeg.data.Data) class is required for inversion and connects the observed data, uncertainties and survey geometry."
   ]
  },
  {
   "cell_type": "code",
   "execution_count": 12,
   "metadata": {
    "execution": {
     "iopub.execute_input": "2024-07-24T17:50:35.119301Z",
     "iopub.status.busy": "2024-07-24T17:50:35.118959Z",
     "iopub.status.idle": "2024-07-24T17:50:35.124138Z",
     "shell.execute_reply": "2024-07-24T17:50:35.123111Z"
    }
   },
   "outputs": [],
   "source": [
    "data_object = data.Data(survey, dobs=dobs, standard_deviation=uncertainties)"
   ]
  },
  {
   "cell_type": "markdown",
   "metadata": {},
   "source": [
    "## Weighted Least-Squares Inversion on a Tensor Mesh\n",
    "\n",
    "Here, we provide a step-by-step best-practices approach for weighted least-squares inversion of gravity anomaly data."
   ]
  },
  {
   "cell_type": "markdown",
   "metadata": {},
   "source": [
    "### Design a (Tensor) Mesh\n",
    "\n",
    "Meshes are designed using the [discretize package](https://discretize.simpeg.xyz). Here, we design a [tensor mesh](myst:discretize#discretize.TensorMesh). See the [discretize user tutorials](https://discretize.simpeg.xyz/en/main/tutorials/mesh_generation/index.html) to learn more about creating meshes. When designing a mesh for gravity inversion, we must consider the spatial wavelengths of the signals contained within the data. If the data spacing is large and/or the signals present in the data are smooth, larger cells can be used to construct the mesh. If the data spacing is smaller and compact anomalies are observed, smaller cells are needed to characterize the structures responsible. And smaller cells are required when the effects of surface topography are significant.\n",
    "\n",
    "**General rule of thumb:** The minimum cell size in each direction is at most 0.5 - 1 times the station spacing. And the thickness of the padding is at least 1 - 2 times the width of the survey region."
   ]
  },
  {
   "cell_type": "code",
   "execution_count": 13,
   "metadata": {
    "execution": {
     "iopub.execute_input": "2024-07-24T17:50:35.128034Z",
     "iopub.status.busy": "2024-07-24T17:50:35.127697Z",
     "iopub.status.idle": "2024-07-24T17:50:35.134740Z",
     "shell.execute_reply": "2024-07-24T17:50:35.133917Z"
    }
   },
   "outputs": [],
   "source": [
    "# Generate tensor mesh with top at z = 0 m\n",
    "dh = 25.0  # minimum cell size\n",
    "hx = [(dh, 5, -1.4), (dh, 40), (dh, 5, 1.4)]  # discretization along x\n",
    "hy = [(dh, 5, -1.4), (dh, 40), (dh, 5, 1.4)]  # discretization along y\n",
    "hz = [(dh, 5, -1.25), (dh/2, 30)]  # discretization along z\n",
    "tensor_mesh = TensorMesh([hx, hy, hz], \"CCN\")\n",
    "\n",
    "# Shift vertically to top same as maximum topography\n",
    "tensor_mesh.origin += np.r_[Data.Easting.mean(), Data.Northing.mean(), Data.Height_Ellipsoid.min()]"
   ]
  },
  {
   "cell_type": "markdown",
   "metadata": {},
   "source": [
    "### Mapping from the Model to Active Cells\n",
    "\n",
    "In SimPEG, the term 'model' is not synonymous with the physical property values defined on the mesh. For whatever model we choose, we must define a mapping from the set of model parameters (a [1D numpy.ndarray](myst:numpy#numpy.ndarray)) to the active cells in the mesh. Mappings are created using the [simpeg.maps](myst:simpeg#simpeg.maps.IdentityMap) module. For the tutorial exercise, the model is the density contrast values for all active cells. As such, our mapping is an identity mapping, whose dimensions are equal to the number of active cells."
   ]
  },
  {
   "cell_type": "code",
   "execution_count": 14,
   "metadata": {
    "execution": {
     "iopub.execute_input": "2024-07-24T17:50:35.199514Z",
     "iopub.status.busy": "2024-07-24T17:50:35.199250Z",
     "iopub.status.idle": "2024-07-24T17:50:35.203140Z",
     "shell.execute_reply": "2024-07-24T17:50:35.202539Z"
    }
   },
   "outputs": [],
   "source": [
    "\n",
    "active_tensor_cells  = active_from_xyz(tensor_mesh, receiver_locations)\n",
    "\n",
    "n_tensor_active = int(active_tensor_cells.sum())\n",
    "\n",
    "\n",
    "tensor_model_map = maps.IdentityMap(nP=n_tensor_active)\n",
    "\n"
   ]
  },
  {
   "cell_type": "markdown",
   "metadata": {},
   "source": [
    "### Starting/Reference Models\n",
    "\n",
    "The **starting model** defines a reasonable starting point for the inversion and does not necessarily represent an initial estimate of the true model. Because the integral formulation used to solve the gravity forward simulation is linear, the optimization problem we must solve is a linear least-squares problem, making the choice in starting model insignificant. It should be noted that the starting model **cannot be vector of zeros,** otherwise the inversion will be unable to compute a gradient direction at the first iteration. For gravity inversion, the starting model is frequently a constant vector with a very small value.\n",
    "\n",
    "The **reference model** is used to include a-prior information. The impact of the reference model on the inversion will be discussed in another tutorial. Assuming the contribution from all background structures has been removed from the gravity anomaly data, and assuming we have not a-priori information, the reference model for basic inversion of gravity data is zero.\n",
    "\n",
    "Notice that the length of the starting and reference models is equal to the number of active mesh cells!!!"
   ]
  },
  {
   "cell_type": "code",
   "execution_count": 15,
   "metadata": {
    "execution": {
     "iopub.execute_input": "2024-07-24T17:50:35.207503Z",
     "iopub.status.busy": "2024-07-24T17:50:35.207240Z",
     "iopub.status.idle": "2024-07-24T17:50:35.211994Z",
     "shell.execute_reply": "2024-07-24T17:50:35.211238Z"
    }
   },
   "outputs": [],
   "source": [
    "starting_tensor_model = 1e-6 * np.ones(n_tensor_active)\n",
    "reference_tensor_model = np.zeros_like(starting_tensor_model)"
   ]
  },
  {
   "cell_type": "code",
   "execution_count": 16,
   "metadata": {
    "execution": {
     "iopub.execute_input": "2024-07-24T17:50:35.215439Z",
     "iopub.status.busy": "2024-07-24T17:50:35.215118Z",
     "iopub.status.idle": "2024-07-24T17:50:35.222209Z",
     "shell.execute_reply": "2024-07-24T17:50:35.221525Z"
    }
   },
   "outputs": [],
   "source": [
    "# Map for ignoring inactive cells when plotting\n",
    "tensor_plotting_map = maps.InjectActiveCells(tensor_mesh, active_tensor_cells, np.nan)"
   ]
  },
  {
   "cell_type": "code",
   "execution_count": 17,
   "metadata": {},
   "outputs": [
    {
     "data": {
      "text/html": [
       "<table>\n",
       "  <tr>\n",
       "    <td style='font-weight: bold; font-size: 1.2em; text-align: center;' colspan='3'>TensorMesh</td>\n",
       "    <td style='font-size: 1.2em; text-align: center;'colspan='4'>87,500 cells</td>\n",
       "  </tr>\n",
       "  <tr>\n",
       "    <th></th>\n",
       "    <th></th>\n",
       "    <th colspan='2' style='padding: 5px 20px 5px 20px;'>MESH EXTENT</th>\n",
       "    <th colspan='2' style='padding: 5px 20px 5px 20px;'>CELL WIDTH</th>\n",
       "    <th style='padding: 5px 20px 5px 20px;'>FACTOR</th>\n",
       "  </tr>\n",
       "  <tr>\n",
       "    <th style='padding: 5px 20px 5px 20px;'>dir</th>\n",
       "    <th style='padding: 5px 20px 5px 20px;'>nC</th>\n",
       "    <th style='padding: 5px 20px 5px 20px;'>min</th>\n",
       "    <th style='padding: 5px 20px 5px 20px;'>max</th>\n",
       "    <th style='padding: 5px 20px 5px 20px;'>min</th>\n",
       "    <th style='padding: 5px 20px 5px 20px;'>max</th>\n",
       "    <th style='padding: 5px 20px 5px 20px;'>max</th>\n",
       "  </tr>\n",
       "  <tr>\n",
       "    <td style='padding: 5px 20px 5px 20px;'>x</td>\n",
       "    <td style='padding: 5px 20px 5px 20px;'>50</td>\n",
       "    <td style='padding: 5px 20px 5px 20px;'>747,791.55</td>\n",
       "    <td style='padding: 5px 20px 5px 20px;'>749,557.74</td>\n",
       "    <td style='padding: 5px 20px 5px 20px;'>25.00</td>\n",
       "    <td style='padding: 5px 20px 5px 20px;'>134.46</td>\n",
       "    <td style='padding: 5px 20px 5px 20px;'>1.40</td>\n",
       "  </tr>\n",
       "  <tr>\n",
       "    <td style='padding: 5px 20px 5px 20px;'>y</td>\n",
       "    <td style='padding: 5px 20px 5px 20px;'>50</td>\n",
       "    <td style='padding: 5px 20px 5px 20px;'>6,415,596.87</td>\n",
       "    <td style='padding: 5px 20px 5px 20px;'>6,417,363.06</td>\n",
       "    <td style='padding: 5px 20px 5px 20px;'>25.00</td>\n",
       "    <td style='padding: 5px 20px 5px 20px;'>134.46</td>\n",
       "    <td style='padding: 5px 20px 5px 20px;'>1.40</td>\n",
       "  </tr>\n",
       "  <tr>\n",
       "    <td style='padding: 5px 20px 5px 20px;'>z</td>\n",
       "    <td style='padding: 5px 20px 5px 20px;'>35</td>\n",
       "    <td style='padding: 5px 20px 5px 20px;'>-278.71</td>\n",
       "    <td style='padding: 5px 20px 5px 20px;'>352.76</td>\n",
       "    <td style='padding: 5px 20px 5px 20px;'>12.50</td>\n",
       "    <td style='padding: 5px 20px 5px 20px;'>76.29</td>\n",
       "    <td style='padding: 5px 20px 5px 20px;'>2.50</td>\n",
       "  </tr>\n",
       "</table>\n"
      ],
      "text/plain": [
       "\n",
       "  TensorMesh: 87,500 cells\n",
       "\n",
       "                      MESH EXTENT             CELL WIDTH      FACTOR\n",
       "  dir    nC        min           max         min       max      max\n",
       "  ---   ---  ---------------------------  ------------------  ------\n",
       "   x     50    747,791.55    749,557.74     25.00    134.46    1.40\n",
       "   y     50  6,415,596.87  6,417,363.06     25.00    134.46    1.40\n",
       "   z     35       -278.71        352.76     12.50     76.29    2.50\n"
      ]
     },
     "execution_count": 17,
     "metadata": {},
     "output_type": "execute_result"
    }
   ],
   "source": [
    "tensor_mesh"
   ]
  },
  {
   "cell_type": "code",
   "execution_count": 18,
   "metadata": {
    "execution": {
     "iopub.execute_input": "2024-07-24T17:50:35.225855Z",
     "iopub.status.busy": "2024-07-24T17:50:35.225570Z",
     "iopub.status.idle": "2024-07-24T17:50:35.419411Z",
     "shell.execute_reply": "2024-07-24T17:50:35.418810Z"
    }
   },
   "outputs": [
    {
     "data": {
      "image/png": "[encoded data removed]",
      "text/plain": [
       "<Figure size 700x300 with 2 Axes>"
      ]
     },
     "metadata": {},
     "output_type": "display_data"
    }
   ],
   "source": [
    "fig = plt.figure(figsize=(7, 3))\n",
    "ax1 = fig.add_axes([0.1, 0.1, 0.73, 0.8])\n",
    "\n",
    "norm = mpl.colors.Normalize(vmin=-0.1, vmax=0.1)\n",
    "tensor_mesh.plot_slice(\n",
    "    tensor_plotting_map * starting_tensor_model,\n",
    "    normal=\"Y\",\n",
    "    ax=ax1,\n",
    "    ind=int(tensor_mesh.shape_cells[1] / 2),\n",
    "    grid=True,\n",
    "    pcolor_opts={\"cmap\": mpl.cm.RdYlBu_r, \"norm\": norm},\n",
    ")\n",
    "ax1.set_title(\"Starting Model (slice at y = 0 m)\")\n",
    "\n",
    "ax2 = fig.add_axes([0.85, 0.1, 0.03, 0.8])\n",
    "cbar = mpl.colorbar.ColorbarBase(\n",
    "    ax2, norm=norm, orientation=\"vertical\", cmap=mpl.cm.RdYlBu_r\n",
    ")\n",
    "cbar.set_label(\"$g/cm^3$\", rotation=270, labelpad=15, size=16)\n",
    "\n",
    "plt.show()"
   ]
  },
  {
   "cell_type": "markdown",
   "metadata": {},
   "source": [
    "### Define the Forward Simulation\n",
    "\n",
    "A simulation object defining the forward problem is required in order to predict data and calculate misfits for recovered models. A comprehensive description of the simulation object for gravity anomaly data was discussed in the [3D Forward Simulation of Gravity Anomaly Data](fwd_gravity_anomaly_3d.ipynb) tutorial. Here, we use the [3D integral formulation](myst:simpeg#simpeg.potential_fields.gravity.simulation.Simulation3DIntegral)."
   ]
  },
  {
   "cell_type": "code",
   "execution_count": 19,
   "metadata": {
    "execution": {
     "iopub.execute_input": "2024-07-24T17:50:35.424361Z",
     "iopub.status.busy": "2024-07-24T17:50:35.424019Z",
     "iopub.status.idle": "2024-07-24T17:50:35.466644Z",
     "shell.execute_reply": "2024-07-24T17:50:35.465850Z"
    }
   },
   "outputs": [],
   "source": [
    "simulation_L2 = gravity.simulation.Simulation3DIntegral(\n",
    "    survey=survey,\n",
    "    mesh=tensor_mesh,\n",
    "    rhoMap=tensor_model_map,\n",
    "    ind_active=active_tensor_cells,\n",
    "    engine=\"geoana\",\n",
    ")"
   ]
  },
  {
   "cell_type": "markdown",
   "metadata": {},
   "source": [
    ":::{tip}\n",
    "By choosing `engine=\"choclo\"` we can make our simulation to run the faster and more memory efficient implementation of the gravity forward that uses [Numba](https://numba.pydata.org/) and [Choclo](https://www.fatiando.org/choclo) under the hood. To do so, we need to have [Choclo installed](https://www.fatiando.org/choclo/latest/install.html).\n",
    ":::"
   ]
  },
  {
   "cell_type": "markdown",
   "metadata": {},
   "source": [
    "### Define the Data Misfit\n",
    "\n",
    "To understand the role of the data misfit in the inversion, please visit [this online resource](https://giftoolscookbook.readthedocs.io/en/latest/content/fundamentals/Uncertainties.html).\n",
    "Here, we use the [L2DataMisfit](myst:simpeg#simpeg.data_misfit.L2DataMisfit) class to define the data misfit. In this case, the data misfit is the L2 norm of the weighted residual between the observed data and the data predicted for a given model. When instantiating the data misfit object within SimPEG, we must assign an appropriate *data object* and *simulation object* as properties."
   ]
  },
  {
   "cell_type": "code",
   "execution_count": 20,
   "metadata": {
    "execution": {
     "iopub.execute_input": "2024-07-24T17:50:35.471697Z",
     "iopub.status.busy": "2024-07-24T17:50:35.471446Z",
     "iopub.status.idle": "2024-07-24T17:50:35.475502Z",
     "shell.execute_reply": "2024-07-24T17:50:35.474902Z"
    }
   },
   "outputs": [],
   "source": [
    "dmis_L2 = data_misfit.L2DataMisfit(data=data_object, simulation=simulation_L2)"
   ]
  },
  {
   "cell_type": "markdown",
   "metadata": {},
   "source": [
    "### Define the Regularization\n",
    "\n",
    "To understand the role of the regularization in the inversion, please visit [this online resource](https://giftoolscookbook.readthedocs.io/en/latest/content/fundamentals/ObjectiveFunction.html). Here, we use the [WeightedLeastSquares](myst:simpeg#simpeg.regularization.WeightedLeastSquares) regularization class to constrain the inversion result. Here, length scales along x, y and z are used to balance the smallness and smoothness terms. And the reference model is only applied to the smallness term; which is redundant for the tutorial example since we have set the reference model to an array of zeros."
   ]
  },
  {
   "cell_type": "code",
   "execution_count": 21,
   "metadata": {
    "execution": {
     "iopub.execute_input": "2024-07-24T17:50:35.481223Z",
     "iopub.status.busy": "2024-07-24T17:50:35.480978Z",
     "iopub.status.idle": "2024-07-24T17:50:35.586932Z",
     "shell.execute_reply": "2024-07-24T17:50:35.586114Z"
    }
   },
   "outputs": [],
   "source": [
    "reg_L2 = regularization.WeightedLeastSquares(\n",
    "    tensor_mesh,\n",
    "    active_cells=active_tensor_cells,\n",
    "    length_scale_x=1.0,\n",
    "    length_scale_y=1.0,\n",
    "    length_scale_z=1.0,\n",
    "    reference_model=reference_tensor_model,\n",
    "    reference_model_in_smooth=False,\n",
    ")"
   ]
  },
  {
   "cell_type": "markdown",
   "metadata": {},
   "source": [
    "### Define the Optimization Algorithm\n",
    "\n",
    "Here, we use the [InexactGaussNewton](myst:simpeg#simpeg.optimization.InexactGaussNewton) class to solve the optimization problem using inexact Gauss-Newton. Reasonable default values have generally been set for the properties of each optimization class. However, the user may choose to set custom values; e.g. the accuracy tolerance for the conjugate gradient solver or the number of line searches."
   ]
  },
  {
   "cell_type": "code",
   "execution_count": 22,
   "metadata": {
    "execution": {
     "iopub.execute_input": "2024-07-24T17:50:35.592389Z",
     "iopub.status.busy": "2024-07-24T17:50:35.592029Z",
     "iopub.status.idle": "2024-07-24T17:50:35.596340Z",
     "shell.execute_reply": "2024-07-24T17:50:35.595611Z"
    }
   },
   "outputs": [],
   "source": [
    "opt_L2 = optimization.InexactGaussNewton(\n",
    "    maxIter=100, maxIterLS=20, maxIterCG=10, tolCG=1e-3\n",
    ")"
   ]
  },
  {
   "cell_type": "markdown",
   "metadata": {},
   "source": [
    "### Define the Inverse Problem\n",
    "\n",
    "We use the [BaseInvProblem](myst:simpeg#simpeg.inverse_problem.BaseInvProblem) class to fully define the inverse problem that is solved at each beta (trade-off parameter) iteration. The inverse problem requires appropriate *data misfit*, *regularization* and *optimization* objects."
   ]
  },
  {
   "cell_type": "code",
   "execution_count": 23,
   "metadata": {
    "execution": {
     "iopub.execute_input": "2024-07-24T17:50:35.601516Z",
     "iopub.status.busy": "2024-07-24T17:50:35.601271Z",
     "iopub.status.idle": "2024-07-24T17:50:35.605495Z",
     "shell.execute_reply": "2024-07-24T17:50:35.604547Z"
    }
   },
   "outputs": [],
   "source": [
    "inv_prob_L2 = inverse_problem.BaseInvProblem(dmis_L2, reg_L2, opt_L2)"
   ]
  },
  {
   "cell_type": "markdown",
   "metadata": {},
   "source": [
    "### Provide Inversion Directives\n",
    "\n",
    "Directives represent operations that are carried out during the inversion. Here, we apply common directives for weighted least-squares inversion of gravity data and describe their roles. These are:\n",
    "\n",
    "- [UpdateSensitivityWeights](myst:simpeg#simpeg.directives.UpdateSensitivityWeights): Apply sensitivity weighting to counteract the natural tendancy of potential field inversion to cluster recovered structures near the receivers. Because the 3D integral formulation is linear, the sensitivity weighting is independent of the model and does not need to be updated throughout the inversion, so we set `every_iteration=False`.\n",
    "\n",
    "- [UpdatePreconditioner](myst:simpeg#simpeg.directives.UpdatePreconditioner): Apply Jacobi preconditioner when solving optimization problem.\n",
    "\n",
    "- [BetaEstimate_ByEig](myst:simpeg#simpeg.directives.BetaEstimate_ByEig): Compute and set starting trade-off parameter (beta) based on largest eigenvalues.\n",
    "\n",
    "- [BetaSchedule](myst:simpeg#simpeg.directives.BetaSchedule): Size reduction of the trade-off parameter at every beta iteration, and the number of Gauss-Newton iterations for each beta.\n",
    "\n",
    "- [TargetMisfit](myst:simpeg#simpeg.directives.TargetMisfit): Terminates the inversion when the data misfit equals the target misfit. A `chifact=1` terminates the inversion when the data misfit equals the number of data.\n",
    "\n",
    "\n",
    "The directive objects are organized in a ``list``. Upon starting the inversion or updating the recovered model at each iteration, the inversion will call each directive within the list **in order**. The order of the directives matters, and SimPEG will throw an error if directives are organized into an improper order. Some directives, like the ``BetaEstimate_ByEig`` are only used when starting the inversion. Other directives, like ``UpdatePreconditionner``, are used whenever the model is updated."
   ]
  },
  {
   "cell_type": "code",
   "execution_count": 24,
   "metadata": {
    "execution": {
     "iopub.execute_input": "2024-07-24T17:50:35.609573Z",
     "iopub.status.busy": "2024-07-24T17:50:35.609275Z",
     "iopub.status.idle": "2024-07-24T17:50:35.615304Z",
     "shell.execute_reply": "2024-07-24T17:50:35.614572Z"
    }
   },
   "outputs": [],
   "source": [
    "sensitivity_weights = directives.UpdateSensitivityWeights(every_iteration=False)\n",
    "update_jacobi = directives.UpdatePreconditioner(update_every_iteration=True)\n",
    "starting_beta = directives.BetaEstimate_ByEig(beta0_ratio=10)\n",
    "beta_schedule = directives.BetaSchedule(coolingFactor=2.0, coolingRate=1)\n",
    "target_misfit = directives.TargetMisfit(chifact=1.0)\n",
    "\n",
    "directives_list_L2 = [\n",
    "    sensitivity_weights,\n",
    "    update_jacobi,\n",
    "    starting_beta,\n",
    "    beta_schedule,\n",
    "    target_misfit,\n",
    "]"
   ]
  },
  {
   "cell_type": "markdown",
   "metadata": {},
   "source": [
    "### Define and Run the Inversion\n",
    "\n",
    "We define the inversion using the [BaseInversion](myst:simpeg#simpeg.inversion.BaseInversion) class. The inversion class must be instantiated with an appropriate *inverse problem* object and *directives list*. The ``run`` method, along with a starting model, is respondible for running the inversion. The output is a 1D numpy.ndarray containing the recovered model parameters"
   ]
  },
  {
   "cell_type": "code",
   "execution_count": 25,
   "metadata": {
    "execution": {
     "iopub.execute_input": "2024-07-24T17:50:35.619925Z",
     "iopub.status.busy": "2024-07-24T17:50:35.619475Z",
     "iopub.status.idle": "2024-07-24T17:50:41.439734Z",
     "shell.execute_reply": "2024-07-24T17:50:41.438631Z"
    },
    "scrolled": false
   },
   "outputs": [
    {
     "name": "stdout",
     "output_type": "stream",
     "text": [
      "\n",
      "Running inversion with SimPEG v0.22.1\n",
      "\n",
      "                    simpeg.InvProblem is setting bfgsH0 to the inverse of the eval2Deriv.\n",
      "                    ***Done using the default solver Pardiso and no solver_opts.***\n",
      "                    \n",
      "model has any nan: 0\n",
      "============================ Inexact Gauss Newton ============================\n",
      "  #     beta     phi_d     phi_m       f      |proj(x-g)-x|  LS    Comment   \n",
      "-----------------------------------------------------------------------------\n",
      "x0 has any nan: 0\n",
      "   0  6.46e+01  1.42e+06  3.17e-06  1.42e+06    4.83e+05      0              \n",
      "   1  3.23e+01  1.49e+05  3.55e+03  2.64e+05    6.88e+04      0              \n",
      "   2  1.62e+01  7.53e+04  5.14e+03  1.58e+05    4.81e+04      0   Skip BFGS  \n",
      "   3  8.08e+00  3.55e+04  6.85e+03  9.08e+04    3.20e+04      0   Skip BFGS  \n",
      "   4  4.04e+00  1.56e+04  8.55e+03  5.02e+04    2.03e+04      0   Skip BFGS  \n",
      "   5  2.02e+00  6.28e+03  1.01e+04  2.68e+04    1.23e+04      0   Skip BFGS  \n",
      "   6  1.01e+00  2.27e+03  1.15e+04  1.39e+04    7.04e+03      0   Skip BFGS  \n",
      "   7  5.05e-01  7.32e+02  1.25e+04  7.06e+03    3.90e+03      0   Skip BFGS  \n",
      "   8  2.53e-01  2.11e+02  1.32e+04  3.55e+03    2.04e+03      0   Skip BFGS  \n",
      "   9  1.26e-01  5.70e+01  1.36e+04  1.78e+03    1.05e+03      0   Skip BFGS  \n",
      "------------------------- STOP! -------------------------\n",
      "1 : |fc-fOld| = 0.0000e+00 <= tolF*(1+|f0|) = 1.4237e+05\n",
      "1 : |xc-x_last| = 7.0587e-02 <= tolX*(1+|x0|) = 1.0003e-01\n",
      "0 : |proj(x-g)-x|    = 1.0516e+03 <= tolG          = 1.0000e-01\n",
      "0 : |proj(x-g)-x|    = 1.0516e+03 <= 1e3*eps       = 1.0000e-02\n",
      "0 : maxIter   =     100    <= iter          =     10\n",
      "------------------------- DONE! -------------------------\n"
     ]
    }
   ],
   "source": [
    "# Here we combine the inverse problem and the set of directives\n",
    "inv_L2 = inversion.BaseInversion(inv_prob_L2, directives_list_L2)\n",
    "\n",
    "# Run inversion\n",
    "recovered_tensor_model = inv_L2.run(starting_tensor_model)"
   ]
  },
  {
   "cell_type": "markdown",
   "metadata": {},
   "source": [
    "### Plot the Data Misfit\n",
    "\n",
    "This step is necessary for determining whether the recovered model accurately reproduces observed anomalies. Here, we plot the observed data, predicted data for the recovered model, and the misfit. As we can see, the predicted data fits the background somewhat better than the anomalies. As a result, you may reassign smaller uncertainties in these areas and re-run the inversion in order to better fit the anomalies. We will do this for the iteratively reweighted least-squares inversion."
   ]
  },
  {
   "cell_type": "code",
   "execution_count": 26,
   "metadata": {
    "execution": {
     "iopub.execute_input": "2024-07-24T17:50:41.445364Z",
     "iopub.status.busy": "2024-07-24T17:50:41.443508Z",
     "iopub.status.idle": "2024-07-24T17:50:41.907631Z",
     "shell.execute_reply": "2024-07-24T17:50:41.906997Z"
    }
   },
   "outputs": [
    {
     "data": {
      "image/png": "[encoded data removed]",
      "text/plain": [
       "<Figure size 1200x500 with 6 Axes>"
      ]
     },
     "metadata": {},
     "output_type": "display_data"
    }
   ],
   "source": [
    "# Predicted data with final recovered model.\n",
    "dpred = inv_prob_L2.dpred\n",
    "\n",
    "# Observed data | Predicted data | Data misfit\n",
    "data_array = np.c_[dobs, dpred, dobs - dpred]\n",
    "\n",
    "fig = plt.figure(figsize=(12, 5))\n",
    "plot_title = [\"Observed\", \"Predicted\", \"Data Misfit\"]\n",
    "plot_units = [\"mGal\", \"mGal\", \"mGal\"]\n",
    "\n",
    "ax1 = 3 * [None]\n",
    "ax2 = 3 * [None]\n",
    "norm = 3 * [None]\n",
    "cbar = 3 * [None]\n",
    "cplot = 3 * [None]\n",
    "v_lim = [np.max((dobs)), np.max((dobs)), np.max(np.abs(dobs - dpred))]\n",
    "v_liml = [np.min((dobs)), np.min((dobs)), -np.max(np.abs(dobs - dpred))]\n",
    "\n",
    "for ii in range(0, 3):\n",
    "    ax1[ii] = fig.add_axes([0.3 * ii + 0.1, 0.2, 0.27, 0.75])\n",
    "    norm[ii] = mpl.colors.Normalize(vmin=v_liml[ii], vmax=v_lim[ii])\n",
    "    cplot[ii] = plot2Ddata(\n",
    "        receiver_list[0].locations,\n",
    "        data_array[:, ii],\n",
    "        ax=ax1[ii],\n",
    "        ncontour=30,\n",
    "        contourOpts={\"cmap\": \"bwr\", \"norm\": norm[ii]},\n",
    "    )\n",
    "    ax1[ii].set_title(plot_title[ii])\n",
    "    ax1[ii].set_xlabel(\"x (m)\")\n",
    "    if ii == 0:\n",
    "        ax1[ii].set_ylabel(\"y (m)\")\n",
    "    else:\n",
    "        ax1[ii].set_yticks([])\n",
    "\n",
    "    ax2[ii] = fig.add_axes([0.3 * ii + 0.1, 0.05, 0.27, 0.05])\n",
    "    cbar[ii] = mpl.colorbar.ColorbarBase(\n",
    "        ax2[ii], norm=norm[ii], orientation=\"horizontal\", cmap=mpl.cm.bwr\n",
    "    )\n",
    "    cbar[ii].ax.locator_params(nbins=3)\n",
    "    cbar[ii].set_label(plot_units[ii], labelpad=5)\n",
    "\n",
    "plt.show()"
   ]
  },
  {
   "cell_type": "markdown",
   "metadata": {},
   "source": [
    "### Plot the Recovered Model\n",
    "\n",
    "As we can see, weighted least-squares regularization leads to the recovery of smooth models. And even with sensitivity weighting, there is a tendancy for gravity anomaly inversion to place recovered structures near the Earth's surface."
   ]
  },
  {
   "cell_type": "code",
   "execution_count": 27,
   "metadata": {
    "execution": {
     "iopub.execute_input": "2024-07-24T17:50:41.910690Z",
     "iopub.status.busy": "2024-07-24T17:50:41.910363Z",
     "iopub.status.idle": "2024-07-24T17:50:42.091377Z",
     "shell.execute_reply": "2024-07-24T17:50:42.090635Z"
    }
   },
   "outputs": [
    {
     "data": {
      "application/vnd.jupyter.widget-view+json": {
       "model_id": "2ee31c9a532e4b478e0458b4daf415c3",
       "version_major": 2,
       "version_minor": 0
      },
      "text/plain": [
       "interactive(children=(IntSlider(value=25, continuous_update=False, description='Slice Index Y:', max=49), Outp…"
      ]
     },
     "metadata": {},
     "output_type": "display_data"
    }
   ],
   "source": [
    "import ipywidgets as widgets\n",
    "from IPython.display import display\n",
    "\n",
    "\n",
    "# Define the function to plot with a specific slice index in the \"Y\" direction\n",
    "def plot_recovered_model_y(ind):\n",
    "    fig = plt.figure(figsize=(7, 3))\n",
    "    ax1 = fig.add_axes([0.1, 0.1, 0.73, 0.8])\n",
    "\n",
    "    norm = mpl.colors.Normalize(\n",
    "        vmin=np.min(recovered_tensor_model), vmax=np.max(recovered_tensor_model)\n",
    "    )\n",
    "    \n",
    "    # Plot the slice with the chosen index in the \"Y\" direction\n",
    "    tensor_mesh.plot_slice(\n",
    "        tensor_plotting_map * recovered_tensor_model,\n",
    "        normal=\"Y\",\n",
    "        ax=ax1,\n",
    "        ind=ind,\n",
    "        grid=False,\n",
    "        pcolor_opts={\"cmap\": mpl.cm.RdYlBu, \"norm\": norm},\n",
    "    )\n",
    "    \n",
    "    ax1.set_title(f'Model slice at y = {tensor_mesh.nodes_y[ind]/1000} km')\n",
    "    \n",
    "    ax2 = fig.add_axes([0.85, 0.1, 0.03, 0.8])\n",
    "    cbar = mpl.colorbar.ColorbarBase(\n",
    "        ax2, norm=norm, orientation=\"vertical\", cmap=mpl.cm.RdYlBu\n",
    "    )\n",
    "    cbar.set_label(\"$g/cm^3$\", rotation=270, labelpad=15, size=16)\n",
    "    \n",
    "    plt.show()\n",
    "\n",
    "# Create an interactive widget for selecting the index\n",
    "slice_slider_y = widgets.IntSlider(\n",
    "    value=int(tensor_mesh.shape_cells[1] / 2),\n",
    "    min=0,\n",
    "    max=tensor_mesh.shape_cells[1] - 1,\n",
    "    step=1,\n",
    "    description='Slice Index Y:',\n",
    "    continuous_update=False\n",
    ")\n",
    "\n",
    "# Link the interactive widget with the function and display\n",
    "interactive_plot = widgets.interactive(plot_recovered_model_y, ind=slice_slider_y)\n",
    "display(interactive_plot)\n"
   ]
  },
  {
   "cell_type": "code",
   "execution_count": 28,
   "metadata": {
    "scrolled": false
   },
   "outputs": [
    {
     "data": {
      "application/vnd.jupyter.widget-view+json": {
       "model_id": "89bbb8661cea42c988809891804f6771",
       "version_major": 2,
       "version_minor": 0
      },
      "text/plain": [
       "interactive(children=(IntSlider(value=16, continuous_update=False, description='Slice Index:', max=34), Output…"
      ]
     },
     "execution_count": 28,
     "metadata": {},
     "output_type": "execute_result"
    }
   ],
   "source": [
    "# Define the function to plot with a specific slice index\n",
    "def plot_recovered_model(ind):\n",
    "    fig = plt.figure(figsize=(7, 7))\n",
    "    ax1 = fig.add_axes([0.1, 0.1, 0.73, 0.8])\n",
    "\n",
    "    norm = mpl.colors.Normalize(\n",
    "        vmin=np.min(recovered_tensor_model)/3*2, vmax=np.max(recovered_tensor_model)/3*2\n",
    "    )\n",
    "    \n",
    "    # Plot the slice with the chosen index\n",
    "    tensor_mesh.plot_slice(\n",
    "        tensor_plotting_map * recovered_tensor_model,\n",
    "        normal=\"Z\",\n",
    "        ax=ax1,\n",
    "        ind=ind,\n",
    "        grid=False,\n",
    "        pcolor_opts={\"cmap\": mpl.cm.RdYlBu, \"norm\": norm},\n",
    "    )\n",
    "    plt.scatter(receiver_locations[:,0],receiver_locations[:,1],color='k',s=0.1)\n",
    "\n",
    "    \n",
    "    ax1.set_title(f'Horizontal slice = {tensor_mesh.nodes_z[ind]/1000} km')\n",
    "    \n",
    "    ax2 = fig.add_axes([0.85, 0.1, 0.03, 0.8])\n",
    "    cbar = mpl.colorbar.ColorbarBase(\n",
    "        ax2, norm=norm, orientation=\"vertical\", cmap=mpl.cm.RdYlBu\n",
    "    )\n",
    "    cbar.set_label(\"$g/cm^3$\", rotation=270, labelpad=15, size=16)\n",
    "    plt.show()\n",
    "\n",
    "# Create an interactive widget for selecting the index\n",
    "slice_slider = widgets.IntSlider(\n",
    "    value=int(tensor_mesh.shape_cells[2] / 2) - 1,\n",
    "    min=0,\n",
    "    max=tensor_mesh.shape_cells[2] - 1,\n",
    "    step=1,\n",
    "    description='Slice Index:',\n",
    "    continuous_update=False\n",
    ")\n",
    "\n",
    "# Display the interactive plot\n",
    "widgets.interactive(plot_recovered_model, ind=slice_slider)"
   ]
  },
  {
   "cell_type": "code",
   "execution_count": 29,
   "metadata": {},
   "outputs": [],
   "source": [
    "# Save model for visulization in geoscience analyst\n",
    "tensor_mesh.write_UBC('density_model.msh',{'density_model.den': recovered_tensor_model})"
   ]
  },
  {
   "cell_type": "code",
   "execution_count": null,
   "metadata": {},
   "outputs": [],
   "source": []
  }
 ],
 "metadata": {
  "kernelspec": {
   "display_name": "Python 3 (ipykernel)",
   "language": "python",
   "name": "python3"
  },
  "language_info": {
   "codemirror_mode": {
    "name": "ipython",
    "version": 3
   },
   "file_extension": ".py",
   "mimetype": "text/x-python",
   "name": "python",
   "nbconvert_exporter": "python",
   "pygments_lexer": "ipython3",
   "version": "3.8.15"
  }
 },
 "nbformat": 4,
 "nbformat_minor": 1
}

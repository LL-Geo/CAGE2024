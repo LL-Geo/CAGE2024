{
 "cells": [
  {
   "cell_type": "code",
   "execution_count": 1,
   "id": "90d5bcdd",
   "metadata": {},
   "outputs": [],
   "source": [
    "import matplotlib.pyplot as plt\n",
    "import numpy as np\n",
    "import pandas as pd\n",
    "from pyproj import Proj\n",
    "from cmcrameri import cm\n",
    "import geopandas as gpd\n",
    "import netCDF4 as nc\n",
    "from scipy.interpolate import interp1d\n",
    "from datetime import datetime\n",
    "import boule as bl"
   ]
  },
  {
   "cell_type": "markdown",
   "id": "c1ee2d30",
   "metadata": {},
   "source": [
    "# Read in Data"
   ]
  },
  {
   "cell_type": "code",
   "execution_count": 2,
   "id": "4fca7b7d",
   "metadata": {
    "scrolled": true
   },
   "outputs": [
    {
     "name": "stderr",
     "output_type": "stream",
     "text": [
      "C:\\Users\\00111021\\AppData\\Local\\Temp\\ipykernel_10632\\692135221.py:5: ParserWarning: Falling back to the 'python' engine because the 'c' engine does not support regex separators (separators > 1 char and different from '\\s+' are interpreted as regex); you can avoid this warning by specifying engine='python'.\n",
      "  Data = pd.read_csv('../measured/Grav/CG-6_0452_CAGE.dat',comment='/', names=names,delimiter=r'\\t')\n"
     ]
    },
    {
     "data": {
      "text/html": [
       "<div>\n",
       "<style scoped>\n",
       "    .dataframe tbody tr th:only-of-type {\n",
       "        vertical-align: middle;\n",
       "    }\n",
       "\n",
       "    .dataframe tbody tr th {\n",
       "        vertical-align: top;\n",
       "    }\n",
       "\n",
       "    .dataframe thead th {\n",
       "        text-align: right;\n",
       "    }\n",
       "</style>\n",
       "<table border=\"1\" class=\"dataframe\">\n",
       "  <thead>\n",
       "    <tr style=\"text-align: right;\">\n",
       "      <th></th>\n",
       "      <th>Station</th>\n",
       "      <th>Date</th>\n",
       "      <th>Time</th>\n",
       "      <th>CorrGrav</th>\n",
       "      <th>Line</th>\n",
       "      <th>StdDev</th>\n",
       "      <th>StdErr</th>\n",
       "      <th>RawGrav</th>\n",
       "      <th>X</th>\n",
       "      <th>Y</th>\n",
       "      <th>...</th>\n",
       "      <th>LonUser</th>\n",
       "      <th>ElevUser</th>\n",
       "      <th>LatGPS</th>\n",
       "      <th>LonGPS</th>\n",
       "      <th>ElevGPS</th>\n",
       "      <th>Corrections[drift-temp-na-tide-tilt]</th>\n",
       "      <th>Lat</th>\n",
       "      <th>Lon</th>\n",
       "      <th>Height_Sea_Level_m</th>\n",
       "      <th>Height_Ellipsoid_m</th>\n",
       "    </tr>\n",
       "  </thead>\n",
       "  <tbody>\n",
       "    <tr>\n",
       "      <th>0</th>\n",
       "      <td>1000</td>\n",
       "      <td>2024-09-24</td>\n",
       "      <td>08:46:10</td>\n",
       "      <td>3406.0381</td>\n",
       "      <td>10</td>\n",
       "      <td>0.0585</td>\n",
       "      <td>0.0107</td>\n",
       "      <td>3402.4967</td>\n",
       "      <td>0.9</td>\n",
       "      <td>3.9</td>\n",
       "      <td>...</td>\n",
       "      <td>118.8843</td>\n",
       "      <td>320.8</td>\n",
       "      <td>-32.453644</td>\n",
       "      <td>118.884384</td>\n",
       "      <td>327.6</td>\n",
       "      <td>1011</td>\n",
       "      <td>-32.453644</td>\n",
       "      <td>118.884384</td>\n",
       "      <td>335.0</td>\n",
       "      <td>309.31</td>\n",
       "    </tr>\n",
       "    <tr>\n",
       "      <th>1</th>\n",
       "      <td>1000</td>\n",
       "      <td>2024-09-24</td>\n",
       "      <td>08:46:10</td>\n",
       "      <td>3406.0381</td>\n",
       "      <td>10</td>\n",
       "      <td>0.0585</td>\n",
       "      <td>0.0107</td>\n",
       "      <td>3402.4967</td>\n",
       "      <td>0.9</td>\n",
       "      <td>3.9</td>\n",
       "      <td>...</td>\n",
       "      <td>118.8843</td>\n",
       "      <td>320.8</td>\n",
       "      <td>-32.453644</td>\n",
       "      <td>118.884384</td>\n",
       "      <td>327.6</td>\n",
       "      <td>1011</td>\n",
       "      <td>-32.453644</td>\n",
       "      <td>118.884384</td>\n",
       "      <td>335.0</td>\n",
       "      <td>309.31</td>\n",
       "    </tr>\n",
       "    <tr>\n",
       "      <th>2</th>\n",
       "      <td>1000</td>\n",
       "      <td>2024-09-24</td>\n",
       "      <td>08:46:10</td>\n",
       "      <td>3406.0381</td>\n",
       "      <td>10</td>\n",
       "      <td>0.0585</td>\n",
       "      <td>0.0107</td>\n",
       "      <td>3402.4967</td>\n",
       "      <td>0.9</td>\n",
       "      <td>3.9</td>\n",
       "      <td>...</td>\n",
       "      <td>118.8843</td>\n",
       "      <td>320.8</td>\n",
       "      <td>-32.453644</td>\n",
       "      <td>118.884384</td>\n",
       "      <td>327.6</td>\n",
       "      <td>1011</td>\n",
       "      <td>-32.453770</td>\n",
       "      <td>118.884262</td>\n",
       "      <td>335.0</td>\n",
       "      <td>309.31</td>\n",
       "    </tr>\n",
       "    <tr>\n",
       "      <th>3</th>\n",
       "      <td>1000</td>\n",
       "      <td>2024-09-24</td>\n",
       "      <td>08:46:10</td>\n",
       "      <td>3406.0381</td>\n",
       "      <td>10</td>\n",
       "      <td>0.0585</td>\n",
       "      <td>0.0107</td>\n",
       "      <td>3402.4967</td>\n",
       "      <td>0.9</td>\n",
       "      <td>3.9</td>\n",
       "      <td>...</td>\n",
       "      <td>118.8843</td>\n",
       "      <td>320.8</td>\n",
       "      <td>-32.453644</td>\n",
       "      <td>118.884384</td>\n",
       "      <td>327.6</td>\n",
       "      <td>1011</td>\n",
       "      <td>-32.453663</td>\n",
       "      <td>118.884346</td>\n",
       "      <td>335.0</td>\n",
       "      <td>309.31</td>\n",
       "    </tr>\n",
       "    <tr>\n",
       "      <th>4</th>\n",
       "      <td>1000</td>\n",
       "      <td>2024-09-24</td>\n",
       "      <td>08:46:10</td>\n",
       "      <td>3406.0381</td>\n",
       "      <td>10</td>\n",
       "      <td>0.0585</td>\n",
       "      <td>0.0107</td>\n",
       "      <td>3402.4967</td>\n",
       "      <td>0.9</td>\n",
       "      <td>3.9</td>\n",
       "      <td>...</td>\n",
       "      <td>118.8843</td>\n",
       "      <td>320.8</td>\n",
       "      <td>-32.453644</td>\n",
       "      <td>118.884384</td>\n",
       "      <td>327.6</td>\n",
       "      <td>1011</td>\n",
       "      <td>-32.453728</td>\n",
       "      <td>118.884361</td>\n",
       "      <td>335.0</td>\n",
       "      <td>309.31</td>\n",
       "    </tr>\n",
       "  </tbody>\n",
       "</table>\n",
       "<p>5 rows × 28 columns</p>\n",
       "</div>"
      ],
      "text/plain": [
       "   Station        Date      Time   CorrGrav  Line  StdDev  StdErr    RawGrav  \\\n",
       "0     1000  2024-09-24  08:46:10  3406.0381    10  0.0585  0.0107  3402.4967   \n",
       "1     1000  2024-09-24  08:46:10  3406.0381    10  0.0585  0.0107  3402.4967   \n",
       "2     1000  2024-09-24  08:46:10  3406.0381    10  0.0585  0.0107  3402.4967   \n",
       "3     1000  2024-09-24  08:46:10  3406.0381    10  0.0585  0.0107  3402.4967   \n",
       "4     1000  2024-09-24  08:46:10  3406.0381    10  0.0585  0.0107  3402.4967   \n",
       "\n",
       "     X    Y  ...   LonUser  ElevUser     LatGPS      LonGPS  ElevGPS  \\\n",
       "0  0.9  3.9  ...  118.8843     320.8 -32.453644  118.884384    327.6   \n",
       "1  0.9  3.9  ...  118.8843     320.8 -32.453644  118.884384    327.6   \n",
       "2  0.9  3.9  ...  118.8843     320.8 -32.453644  118.884384    327.6   \n",
       "3  0.9  3.9  ...  118.8843     320.8 -32.453644  118.884384    327.6   \n",
       "4  0.9  3.9  ...  118.8843     320.8 -32.453644  118.884384    327.6   \n",
       "\n",
       "   Corrections[drift-temp-na-tide-tilt]        Lat         Lon  \\\n",
       "0                                  1011 -32.453644  118.884384   \n",
       "1                                  1011 -32.453644  118.884384   \n",
       "2                                  1011 -32.453770  118.884262   \n",
       "3                                  1011 -32.453663  118.884346   \n",
       "4                                  1011 -32.453728  118.884361   \n",
       "\n",
       "   Height_Sea_Level_m  Height_Ellipsoid_m  \n",
       "0               335.0              309.31  \n",
       "1               335.0              309.31  \n",
       "2               335.0              309.31  \n",
       "3               335.0              309.31  \n",
       "4               335.0              309.31  \n",
       "\n",
       "[5 rows x 28 columns]"
      ]
     },
     "execution_count": 2,
     "metadata": {},
     "output_type": "execute_result"
    }
   ],
   "source": [
    "#works for CG5 output, needs to be changed for CG6\n",
    "names = ['Station','Date','Time','CorrGrav','Line','StdDev','StdErr','RawGrav','X','Y',\t\n",
    "         'SensorTemp','TideCorr','TiltCorr','TempCorr','DriftCorr','MeasurDur','InstrHeight','LatUser','LonUser','ElevUser','LatGPS',\n",
    "         'LonGPS','ElevGPS','Corrections[drift-temp-na-tide-tilt]']\n",
    "Data = pd.read_csv('measured/Grav/CG-6_0452_CAGE.dat',comment='/', names=names,delimiter=r'\\t')\n",
    "\n",
    "GPS=pd.read_csv('measured/Grav/GPS.csv')\n",
    "\n",
    "Data = pd.merge(Data, GPS, on = ['Station', 'Line'], how='left')\n",
    "\n",
    "Data_1st_day = Data[Data.Date=='2024-09-25']\n",
    "Data_2nd_day = Data[Data.Date=='2024-09-26']\n",
    "Data_1st_day.to_csv('measured/Grav/CG-6_0452_CAGE_1stDay.csv')\n",
    "Data_2nd_day.to_csv('measured/Grav/CG-6_0452_CAGE_2ndDay.csv')\n",
    "Data.head(5)"
   ]
  },
  {
   "cell_type": "code",
   "execution_count": 3,
   "id": "17393d1d-ea4b-4860-995b-de6da5766914",
   "metadata": {},
   "outputs": [
    {
     "data": {
      "text/plain": [
       "(-32.3665, -32.355)"
      ]
     },
     "execution_count": 3,
     "metadata": {},
     "output_type": "execute_result"
    },
    {
     "data": {
      "image/png": "[encoded data removed]",
      "text/plain": [
       "<Figure size 640x480 with 1 Axes>"
      ]
     },
     "metadata": {},
     "output_type": "display_data"
    }
   ],
   "source": [
    "plt.scatter(Data.Lon,Data.Lat)\n",
    "plt.xlim(119.64,119.647)\n",
    "plt.ylim(-32.3665,-32.355) "
   ]
  },
  {
   "cell_type": "markdown",
   "id": "a497f971-9137-4176-b9a7-0ab42079e58d",
   "metadata": {},
   "source": [
    "# Plot Data"
   ]
  },
  {
   "cell_type": "code",
   "execution_count": 4,
   "id": "9f52ea21-28d9-45a2-b9fd-20ae0a8723d2",
   "metadata": {},
   "outputs": [
    {
     "data": {
      "text/plain": [
       "(3383.5, 3385.0)"
      ]
     },
     "execution_count": 4,
     "metadata": {},
     "output_type": "execute_result"
    },
    {
     "data": {
      "image/png": "[encoded data removed]",
      "text/plain": [
       "<Figure size 400x200 with 1 Axes>"
      ]
     },
     "metadata": {},
     "output_type": "display_data"
    }
   ],
   "source": [
    "plt.figure(figsize=(4,2))\n",
    "plt.scatter(Data_1st_day.Station,Data_1st_day.RawGrav)\n",
    "plt.xlim(1998,2020)\n",
    "plt.ylim(3383.5,3385)"
   ]
  },
  {
   "cell_type": "code",
   "execution_count": 5,
   "id": "87edaec0-07da-4d8b-be3b-570efd526d3e",
   "metadata": {},
   "outputs": [
    {
     "data": {
      "text/plain": [
       "(3383.0, 3385.0)"
      ]
     },
     "execution_count": 5,
     "metadata": {},
     "output_type": "execute_result"
    },
    {
     "data": {
      "image/png": "[encoded data removed]",
      "text/plain": [
       "<Figure size 400x200 with 1 Axes>"
      ]
     },
     "metadata": {},
     "output_type": "display_data"
    }
   ],
   "source": [
    "plt.figure(figsize=(4,2))\n",
    "plt.scatter(Data_2nd_day.Station,Data_2nd_day.RawGrav)\n",
    "plt.xlim(1995,2003)\n",
    "plt.ylim(3383,3385)"
   ]
  },
  {
   "cell_type": "markdown",
   "id": "6c7b9f0f-6801-4dc6-afd6-4cac8c16b990",
   "metadata": {},
   "source": [
    "# Calculate drift"
   ]
  },
  {
   "cell_type": "markdown",
   "id": "5c5584fa-23a1-4030-9348-ab5c9d0bc634",
   "metadata": {},
   "source": [
    "transform date and time to second elapsed"
   ]
  },
  {
   "cell_type": "code",
   "execution_count": 6,
   "id": "74a20d18",
   "metadata": {},
   "outputs": [],
   "source": [
    "#1st Day\n",
    "\n",
    "Data_1st_day = Data_1st_day.assign(DATE=pd.to_datetime(Data_1st_day['Date'], format='%Y-%m-%d'))\n",
    "Data_1st_day = Data_1st_day.assign(DateTime=pd.to_datetime(Data_1st_day['Date']+ ' ' + Data_1st_day['Time'], format='%Y-%m-%d %H:%M:%S'))\n",
    "\n",
    "Data_1st_day.loc[:,'DateTime'] = pd.to_datetime(Data_1st_day['DateTime'])\n",
    "\n",
    "datetime_values = Data_1st_day['DateTime'].copy()\n",
    "datetime_strings = [str(dt) for dt in datetime_values]\n",
    "\n",
    "reference_time = min(datetime.strptime(dt, '%Y-%m-%d %H:%M:%S') for dt in datetime_strings)\n",
    "seconds_elapsed = [(datetime.strptime(dt, '%Y-%m-%d %H:%M:%S') - reference_time).total_seconds() for dt in datetime_strings]\n",
    "Data_1st_day.loc[:,'seconds_elapsed'] = seconds_elapsed\n",
    "\n",
    "# Base Station\n",
    "Data_control_1 = Data_1st_day[(Data_1st_day.Station==2000) & (Data_1st_day.Line==100)]\n",
    "\n",
    "\n",
    "#2nd Day\n",
    "\n",
    "Data_2nd_day = Data_2nd_day.assign(DATE=pd.to_datetime(Data_2nd_day['Date'], format='%Y-%m-%d'))\n",
    "Data_2nd_day = Data_2nd_day.assign(DateTime=pd.to_datetime(Data_2nd_day['Date']+ ' ' + Data_2nd_day['Time'], format='%Y-%m-%d %H:%M:%S'))\n",
    "\n",
    "Data_2nd_day.loc[:,'DateTime'] = pd.to_datetime(Data_2nd_day['DateTime'])\n",
    "\n",
    "datetime_values = Data_2nd_day['DateTime'].copy()\n",
    "datetime_strings = [str(dt) for dt in datetime_values]\n",
    "\n",
    "reference_time = min(datetime.strptime(dt, '%Y-%m-%d %H:%M:%S') for dt in datetime_strings)\n",
    "seconds_elapsed = [(datetime.strptime(dt, '%Y-%m-%d %H:%M:%S') - reference_time).total_seconds() for dt in datetime_strings]\n",
    "Data_2nd_day.loc[:,'seconds_elapsed'] = seconds_elapsed\n",
    "\n",
    "# Base Station\n",
    "Data_control_2 = Data_2nd_day[(Data_2nd_day.Station==2000) & (Data_2nd_day.Line==100)]"
   ]
  },
  {
   "cell_type": "markdown",
   "id": "3d1358d1-a4b3-4df8-ba66-bd6eee190eb3",
   "metadata": {},
   "source": [
    "group by station (taking the mean here)"
   ]
  },
  {
   "cell_type": "code",
   "execution_count": 7,
   "id": "6599dd93-bf41-4224-a379-3c5a9478a685",
   "metadata": {},
   "outputs": [],
   "source": [
    "df_1 = Data_1st_day[['Station','seconds_elapsed' ,'RawGrav']]\n",
    "mean_Data_1 = df_1.groupby('Station').mean() # take mean of three measurements at each location\n",
    "mean_Data_1.reset_index(inplace=True)\n",
    "\n",
    "df_2 = Data_2nd_day[['Station','seconds_elapsed' ,'RawGrav']]\n",
    "mean_Data_2 = df_2.groupby('Station').mean() # take mean of three measurements at each location\n",
    "mean_Data_2.reset_index(inplace=True)"
   ]
  },
  {
   "cell_type": "code",
   "execution_count": 8,
   "id": "a3e6a96c",
   "metadata": {},
   "outputs": [
    {
     "data": {
      "text/plain": [
       "<matplotlib.legend.Legend at 0x2ddb2583c90>"
      ]
     },
     "execution_count": 8,
     "metadata": {},
     "output_type": "execute_result"
    },
    {
     "data": {
      "image/png": "[encoded data removed]",
      "text/plain": [
       "<Figure size 700x200 with 2 Axes>"
      ]
     },
     "metadata": {},
     "output_type": "display_data"
    }
   ],
   "source": [
    "x_1 = np.array(Data_control_1['seconds_elapsed'])\n",
    "y_1 = Data_control_1['RawGrav']\n",
    "m_1, b_1 = np.polyfit(x_1, y_1, 1) \n",
    "slope_label_1 = f\" Drift_1: \\n Slope: {m_1:.1e} \\n b: {b_1:.2f}\"\n",
    "\n",
    "Drift_1 = np.vstack((x_1, m_1*x_1 + b_1)).T\n",
    "\n",
    "\n",
    "x_2 = np.array(Data_control_2['seconds_elapsed'])\n",
    "y_2 = Data_control_2['RawGrav']\n",
    "m_2, b_2 = np.polyfit(x_2, y_2, 1) \n",
    "slope_label_2 = f\" Drift_2: \\n Slope: {m_2:.1e} \\n b: {b_2:.2f}\"\n",
    "\n",
    "Drift_2 = np.vstack((x_2, m_2*x_2 + b_2)).T\n",
    "\n",
    "\n",
    "\n",
    "plt.figure(figsize=(7,2))\n",
    "plt.subplot(1,2,1)\n",
    "plt.scatter(x_1, y_1)\n",
    "plt.plot(x_1, m_1*x_1 + b_1, label=slope_label_1)\n",
    "plt.legend()\n",
    "\n",
    "\n",
    "plt.subplot(1,2,2)\n",
    "plt.scatter(x_2, y_2)\n",
    "plt.plot(x_2, m_2*x_2 + b_2, label=slope_label_2)\n",
    "plt.legend()"
   ]
  },
  {
   "cell_type": "code",
   "execution_count": 10,
   "id": "4548e624-b97f-4bfe-8f7f-21913f5514de",
   "metadata": {},
   "outputs": [],
   "source": [
    "df_1 = Data_1st_day[['Station', 'Line','seconds_elapsed','RawGrav', 'Lon', 'Lat', 'Height_Sea_Level_m', 'Height_Ellipsoid_m']]\n",
    "df_1 = df_1[df_1['Line']!=10]\n",
    "mean_Data_1 = df_1.groupby(['Station','Line']).mean() # take mean of three measurements at each location\n",
    "mean_Data_1.reset_index(inplace=True)\n",
    "\n",
    "df_2 = Data_2nd_day[['Station','Line', 'seconds_elapsed','RawGrav', 'Lon', 'Lat', 'Height_Sea_Level_m', 'Height_Ellipsoid_m']]\n",
    "df_2 = df_2[df_2['Line']!=10]\n",
    "mean_Data_2 = df_2.groupby(['Station','Line']).mean() # take mean of three measurements at each location\n",
    "mean_Data_2.reset_index(inplace=True)"
   ]
  },
  {
   "cell_type": "code",
   "execution_count": null,
   "id": "96766e15-9d5c-4c9b-be3c-157f0d639546",
   "metadata": {},
   "outputs": [],
   "source": []
  },
  {
   "cell_type": "code",
   "execution_count": 11,
   "id": "9b28dc24",
   "metadata": {},
   "outputs": [
    {
     "data": {
      "text/plain": [
       "(1246.0, 18101.0)"
      ]
     },
     "execution_count": 11,
     "metadata": {},
     "output_type": "execute_result"
    },
    {
     "data": {
      "image/png": "[encoded data removed]",
      "text/plain": [
       "<Figure size 300x200 with 1 Axes>"
      ]
     },
     "metadata": {},
     "output_type": "display_data"
    }
   ],
   "source": [
    "x_new_1 = mean_Data_1['seconds_elapsed']\n",
    "f_1 = interp1d(Drift_1[:,0],Drift_1[:,1], kind='linear')\n",
    "drift_1 = f_1(x_new_1)\n",
    "\n",
    "x_new_2 = mean_Data_2['seconds_elapsed']\n",
    "f_2 = interp1d(Drift_2[:,0],Drift_2[:,1], kind='linear')\n",
    "drift_2 = f_2(x_new_2)\n",
    "\n",
    "plt.figure(figsize=(3,2))\n",
    "plt.plot(Drift_1[:,0],Drift_1[:,1])\n",
    "plt.scatter(mean_Data_1['seconds_elapsed'], mean_Data_1['RawGrav'])\n",
    "plt.plot(x_new_1,drift_1, linestyle='--')\n",
    "plt.xlim(min(mean_Data_1['seconds_elapsed']), max(mean_Data_1['seconds_elapsed']))"
   ]
  },
  {
   "cell_type": "markdown",
   "id": "c6b43194-89b1-4eb3-a7b3-bfc565006cca",
   "metadata": {},
   "source": [
    "# Correction"
   ]
  },
  {
   "cell_type": "code",
   "execution_count": 12,
   "id": "afda2753-bcab-4b53-ac4e-2a30e28f0f4e",
   "metadata": {},
   "outputs": [],
   "source": [
    "drift_corrected_1 = mean_Data_1['RawGrav'] - drift_1\n",
    "drift_corrected_2 = mean_Data_2['RawGrav'] - drift_2\n",
    "\n",
    "mean_Data_1['grav_drift'] = drift_corrected_1\n",
    "mean_Data_2['grav_drift'] = drift_corrected_2\n",
    "\n",
    "#Save to file\n",
    "combined = pd.concat([mean_Data_1,mean_Data_2])\n",
    "combined.to_csv('Processed_Data.csv')"
   ]
  },
  {
   "cell_type": "code",
   "execution_count": null,
   "id": "1c2d4aa6-639b-47d0-9705-c4340dca09ee",
   "metadata": {},
   "outputs": [],
   "source": []
  },
  {
   "cell_type": "code",
   "execution_count": null,
   "id": "42e73be0-67d5-4c93-8533-a3a0e8bdd256",
   "metadata": {},
   "outputs": [],
   "source": []
  },
  {
   "cell_type": "code",
   "execution_count": null,
   "id": "0e5b6513-81e3-4ebc-9597-99ff571df1a4",
   "metadata": {},
   "outputs": [],
   "source": []
  },
  {
   "cell_type": "code",
   "execution_count": null,
   "id": "02d34f64-0414-406f-91c9-c198662f9c99",
   "metadata": {},
   "outputs": [],
   "source": []
  },
  {
   "cell_type": "code",
   "execution_count": null,
   "id": "d00d062d-33e6-4a13-9a3e-2c204266d102",
   "metadata": {},
   "outputs": [],
   "source": []
  }
 ],
 "metadata": {
  "kernelspec": {
   "display_name": "Python 3 (ipykernel)",
   "language": "python",
   "name": "python3"
  },
  "language_info": {
   "codemirror_mode": {
    "name": "ipython",
    "version": 3
   },
   "file_extension": ".py",
   "mimetype": "text/x-python",
   "name": "python",
   "nbconvert_exporter": "python",
   "pygments_lexer": "ipython3",
   "version": "3.8.15"
  }
 },
 "nbformat": 4,
 "nbformat_minor": 5
}

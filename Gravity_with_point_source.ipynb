{
 "cells": [
  {
   "cell_type": "code",
   "execution_count": 1,
   "id": "7e586236",
   "metadata": {},
   "outputs": [
    {
     "name": "stderr",
     "output_type": "stream",
     "text": [
      "C:\\Users\\00103168\\Anaconda3\\lib\\site-packages\\numpy\\_distributor_init.py:30: UserWarning: loaded more than 1 DLL from .libs:\n",
      "C:\\Users\\00103168\\Anaconda3\\lib\\site-packages\\numpy\\.libs\\libopenblas.EL2C6PLE4ZYW3ECEVIV3OXXGRN2NRFM2.gfortran-win_amd64.dll\n",
      "C:\\Users\\00103168\\Anaconda3\\lib\\site-packages\\numpy\\.libs\\libopenblas.FB5AE2TYXYH2IJRDKGDGQ3XBKLKTF43H.gfortran-win_amd64.dll\n",
      "  warnings.warn(\"loaded more than 1 DLL from .libs:\"\n",
      "C:\\Users\\00103168\\Anaconda3\\lib\\site-packages\\xarray\\backends\\cfgrib_.py:29: UserWarning: Failed to load cfgrib - most likely there is a problem accessing the ecCodes library. Try `import cfgrib` to get the full error message\n",
      "  warnings.warn(\n"
     ]
    },
    {
     "data": {
      "application/vnd.jupyter.widget-view+json": {
       "model_id": "94def7f1998145999676fd7532bae142",
       "version_major": 2,
       "version_minor": 0
      },
      "text/plain": [
       "interactive(children=(IntSlider(value=2000, continuous_update=False, description='z (m):', max=10000, min=2000…"
      ]
     },
     "metadata": {},
     "output_type": "display_data"
    }
   ],
   "source": [
    "import ipywidgets as widgets\n",
    "import matplotlib.pyplot as plt\n",
    "import numpy as np\n",
    "import harmonica as hm\n",
    "import verde as vd\n",
    "from matplotlib.patches import Circle\n",
    "\n",
    "# Define the function to update the plot based on the selected values of z, d, and r\n",
    "def update_plot(z, d, r):\n",
    "    # Set the point and mass parameters\n",
    "    point = (0, 0, z)\n",
    "    density = d\n",
    "    radius = r\n",
    "    mass = -4 / 3 * np.pi * radius**3 * density\n",
    "\n",
    "    # Define grid coordinates\n",
    "    coordinates = vd.grid_coordinates(\n",
    "        region=(-20000, 20000, -20000, 20000), shape=(100, 100), extra_coords=0\n",
    "    )\n",
    "\n",
    "    # Calculate the gravitational field using harmonica's point_gravity function\n",
    "    g_z = hm.point_gravity(coordinates, point, mass, field=\"g_z\")\n",
    "\n",
    "    # Create a figure with two subplots (panels)\n",
    "    fig, (ax1, ax2) = plt.subplots(2, 1, figsize=(10, 8), gridspec_kw={'height_ratios': [3, 1]})\n",
    "    \n",
    "    # Top panel: Plot the g_z field for a specific slice\n",
    "    ax1.plot(coordinates[0][50, :], g_z[50, :], label=f'z = {z} m, density = {density} kg/m^3, radius  = {radius} m')\n",
    "    ax1.set_ylim(-20, 20)  # Set the fixed y-axis range\n",
    "    ax1.set_xlabel('x (m)')\n",
    "    ax1.set_ylabel('g_z (mGal)')\n",
    "    ax1.set_title('Gravity Field for a point source (z)')\n",
    "    ax1.legend()\n",
    "    ax1.grid(True)\n",
    "\n",
    "    # Bottom panel: Show the location of z and plot a circle\n",
    "    ax2.axhline(0, color='k', linewidth=1)  # Horizontal line for reference\n",
    "    circle = Circle((0, z), radius, color='blue', fill=False, linewidth=2)  # Create a circle\n",
    "    ax2.add_patch(circle)  # Add the circle to the plot\n",
    "    ax2.plot(0, z, 'ro', markersize=10)  # Mark the current value of z with a point\n",
    "    ax2.set_xlim(-20000, 20000)  # Fix the x-axis range to match the grid region\n",
    "    ax2.set_ylim(10000, 0)  # Correct y-limits to represent depth\n",
    "    ax2.set_xlabel('x (m)')\n",
    "    ax2.set_ylabel('z (m)')\n",
    "\n",
    "    # Adjust layout to avoid overlapping titles and labels\n",
    "    plt.tight_layout()\n",
    "    plt.show()\n",
    "\n",
    "# Create sliders for controlling z, d, and r parameters\n",
    "z_slider = widgets.IntSlider(\n",
    "    value=2000,\n",
    "    min=2000,\n",
    "    max=10000,\n",
    "    step=1000,\n",
    "    description='z (m):',\n",
    "    continuous_update=False\n",
    ")\n",
    "\n",
    "d_slider = widgets.FloatSlider(\n",
    "    value=2670,  # Typical density of crustal rock in kg/m^3\n",
    "    min=-3300,\n",
    "    max=3300,\n",
    "    step=10,\n",
    "    description='Density (kg/m^3):',\n",
    "    continuous_update=False\n",
    ")\n",
    "\n",
    "r_slider = widgets.FloatSlider(\n",
    "    value=1000,  # Radius in meters\n",
    "    min=100,\n",
    "    max=5000,\n",
    "    step=100,\n",
    "    description='Radius (m):',\n",
    "    continuous_update=False\n",
    ")\n",
    "\n",
    "# Create interactive widgets to link with the update function\n",
    "widgets.interactive(update_plot, z=z_slider, d=d_slider, r=r_slider)\n"
   ]
  },
  {
   "cell_type": "code",
   "execution_count": 3,
   "id": "60ca4967",
   "metadata": {},
   "outputs": [
    {
     "data": {
      "application/vnd.jupyter.widget-view+json": {
       "model_id": "0792b855eed544be95e615b493c0a831",
       "version_major": 2,
       "version_minor": 0
      },
      "text/plain": [
       "HBox(children=(IntSlider(value=2000, continuous_update=False, description='z0 (m):', max=10000, min=2000, step…"
      ]
     },
     "metadata": {},
     "output_type": "display_data"
    },
    {
     "data": {
      "application/vnd.jupyter.widget-view+json": {
       "model_id": "fd63cabbdab24d1cb88738729530b1f1",
       "version_major": 2,
       "version_minor": 0
      },
      "text/plain": [
       "HBox(children=(FloatSlider(value=2670.0, continuous_update=False, description='Density0 (kg/m^3):', max=3300.0…"
      ]
     },
     "metadata": {},
     "output_type": "display_data"
    },
    {
     "data": {
      "application/vnd.jupyter.widget-view+json": {
       "model_id": "973fb53b1a1545a89abf8193544de92d",
       "version_major": 2,
       "version_minor": 0
      },
      "text/plain": [
       "HBox(children=(FloatSlider(value=1000.0, continuous_update=False, description='Radius0 (m):', max=5000.0, min=…"
      ]
     },
     "metadata": {},
     "output_type": "display_data"
    },
    {
     "data": {
      "application/vnd.jupyter.widget-view+json": {
       "model_id": "a37e91871f894037be545ebfdeb7bab1",
       "version_major": 2,
       "version_minor": 0
      },
      "text/plain": [
       "HBox(children=(FloatSlider(value=-10000.0, continuous_update=False, description='x0 location (m):', max=20000.…"
      ]
     },
     "metadata": {},
     "output_type": "display_data"
    },
    {
     "data": {
      "application/vnd.jupyter.widget-view+json": {
       "model_id": "9d6dff1a09ab4e51898917c839e8601a",
       "version_major": 2,
       "version_minor": 0
      },
      "text/plain": [
       "FloatSlider(value=0.0, continuous_update=False, description='Observation height (m):', max=0.0, min=-10000.0, …"
      ]
     },
     "metadata": {},
     "output_type": "display_data"
    },
    {
     "data": {
      "application/vnd.jupyter.widget-view+json": {
       "model_id": "9db46b72001b4d5fbb9da96863d439a9",
       "version_major": 2,
       "version_minor": 0
      },
      "text/plain": [
       "Output()"
      ]
     },
     "metadata": {},
     "output_type": "display_data"
    }
   ],
   "source": [
    "import ipywidgets as widgets\n",
    "import matplotlib.pyplot as plt\n",
    "import numpy as np\n",
    "import harmonica as hm\n",
    "import verde as vd\n",
    "from matplotlib.patches import Circle\n",
    "\n",
    "# Function to update the plot based on selected values of z0, d0, r0, x0, z1, d1, r1, x1\n",
    "def update_plot(z0, d0, r0, x0, z1, d1, r1, x1,h):\n",
    "    # Define the coordinates and parameters for the point sources\n",
    "    easting = np.array([x0, x1])\n",
    "    northing = np.array([0, 0])\n",
    "    upward = np.array([z0, z1])\n",
    "    points = (easting, northing, upward)\n",
    "    masses = np.array([\n",
    "        -4 / 3 * np.pi * r0**3 * d0,\n",
    "        -4 / 3 * np.pi * r1**3 * d1\n",
    "    ])\n",
    "\n",
    "    # Define grid coordinates for the gravitational field calculation\n",
    "    region = (-40000, 40000, -40000, 40000)\n",
    "    shape = (100, 100)\n",
    "    coordinates = vd.grid_coordinates(region=region, shape=shape, extra_coords=h)\n",
    "\n",
    "    # Calculate the gravitational field (g_z) using harmonica's point_gravity function\n",
    "    g_z = hm.point_gravity(coordinates, points, masses, field=\"g_z\")\n",
    "\n",
    "    # Create a figure with two subplots (panels)\n",
    "    fig, (ax1, ax2) = plt.subplots(2, 1, figsize=(10, 8), gridspec_kw={'height_ratios': [3, 1]})\n",
    "    \n",
    "    # Top panel: Plot the g_z field for a specific slice\n",
    "    ax1.plot(\n",
    "        coordinates[0][50, :], g_z[50, :],\n",
    "        label=f'z0 = {z0} m, density0 = {d0} kg/m^3, radius0 = {r0} m;\\nz1 = {z1} m, density1 = {d1} kg/m^3, radius1 = {r1} m'\n",
    "    )\n",
    "    ax1.set_ylim(-20, 20)\n",
    "    ax1.set_xlim(-40000, 40000)\n",
    "    ax1.set_xlabel('x (m)')\n",
    "    ax1.set_ylabel('g_z (mGal)')\n",
    "    ax1.set_title('Gravity Field for Point Sources')\n",
    "    ax1.legend()\n",
    "    ax1.grid(True)\n",
    "\n",
    "    # Bottom panel: Show the locations of z0 and z1 with circles\n",
    "    # Circle for the first point source\n",
    "    circle0 = Circle((x0, z0), r0, color='blue', fill=False, linewidth=2)\n",
    "    ax2.add_patch(circle0)\n",
    "    ax2.plot(x0, z0, 'bo', markersize=10)  # Mark the current value of z0 with a point\n",
    "    # Circle for the second point source\n",
    "    circle1 = Circle((x1, z1), r1, color='red', fill=False, linewidth=2)\n",
    "    ax2.add_patch(circle1)\n",
    "    ax2.plot(x1, z1, 'ro', markersize=10)  # Mark the current value of z1 with a point\n",
    "    ax2.plot(coordinates[0][50, :], coordinates[0][50, :]-coordinates[0][50, :]+h, 'k.', markersize=10)  # Mark the current value of z1 with a point\n",
    "\n",
    "    ax2.set_xlim(-40000, 40000)\n",
    "    ax2.set_ylim(10000, -10000)  # Set y-limits to represent depth correctly\n",
    "    ax2.set_xlabel('x (m)')\n",
    "    ax2.set_ylabel('z (m)')\n",
    "\n",
    "    # Adjust layout to avoid overlapping titles and labels\n",
    "    plt.tight_layout()\n",
    "    plt.show()\n",
    "\n",
    "# Create sliders for controlling z0, d0, r0, x0 parameters for both point sources\n",
    "z0_slider = widgets.IntSlider(value=2000, min=2000, max=10000, step=1000, description='z0 (m):', continuous_update=False)\n",
    "d0_slider = widgets.FloatSlider(value=2670, min=-3300, max=3300, step=10, description='Density0 (kg/m^3):', continuous_update=False)\n",
    "r0_slider = widgets.FloatSlider(value=1000, min=100, max=5000, step=100, description='Radius0 (m):', continuous_update=False)\n",
    "x0_slider = widgets.FloatSlider(value=-10000, min=-20000, max=20000, step=1000, description='x0 location (m):', continuous_update=False)\n",
    "\n",
    "z1_slider = widgets.IntSlider(value=2000, min=2000, max=10000, step=1000, description='z1 (m):', continuous_update=False)\n",
    "d1_slider = widgets.FloatSlider(value=-2670, min=-3300, max=3300, step=10, description='Density1 (kg/m^3):', continuous_update=False)\n",
    "r1_slider = widgets.FloatSlider(value=1000, min=100, max=5000, step=100, description='Radius1 (m):', continuous_update=False)\n",
    "x1_slider = widgets.FloatSlider(value=10000, min=-20000, max=20000, step=1000, description='x1 location (m):', continuous_update=False)\n",
    "\n",
    "h_slider = widgets.FloatSlider(value=0, min=-10000, max=0, step=1000, description='Observation height (m):', continuous_update=False)\n",
    "\n",
    "# Create horizontal box layouts for z0 and z1 sliders\n",
    "z_box = widgets.HBox([z0_slider, z1_slider])\n",
    "d_box = widgets.HBox([d0_slider, d1_slider])\n",
    "r_box = widgets.HBox([r0_slider, r1_slider])\n",
    "x_box = widgets.HBox([x0_slider, x1_slider])\n",
    "\n",
    "# Use interactive_output to link widgets with the update function without duplication\n",
    "interactive_plot = widgets.interactive_output(\n",
    "    update_plot,\n",
    "    {'z0': z0_slider, 'd0': d0_slider, 'r0': r0_slider, 'x0': x0_slider,\n",
    "     'z1': z1_slider, 'd1': d1_slider, 'r1': r1_slider, 'x1': x1_slider,\n",
    "    'h': h_slider}\n",
    ")\n",
    "\n",
    "# Display the sliders side by side and the interactive plot\n",
    "display(z_box, d_box, r_box, x_box,h_slider,interactive_plot)\n"
   ]
  },
  {
   "cell_type": "code",
   "execution_count": null,
   "id": "0001c7d5",
   "metadata": {},
   "outputs": [],
   "source": []
  }
 ],
 "metadata": {
  "kernelspec": {
   "display_name": "Python 3 (ipykernel)",
   "language": "python",
   "name": "python3"
  },
  "language_info": {
   "codemirror_mode": {
    "name": "ipython",
    "version": 3
   },
   "file_extension": ".py",
   "mimetype": "text/x-python",
   "name": "python",
   "nbconvert_exporter": "python",
   "pygments_lexer": "ipython3",
   "version": "3.8.16"
  }
 },
 "nbformat": 4,
 "nbformat_minor": 5
}
